{
 "cells": [
  {
   "cell_type": "code",
   "execution_count": 1,
   "metadata": {},
   "outputs": [],
   "source": [
    "import pandas as pd\n",
    "import numpy as np\n",
    "import matplotlib.pyplot as plt\n",
    "import seaborn as sns\n",
    "import warnings\n",
    "warnings.filterwarnings(\"ignore\")\n",
    "from pydataset import data\n",
    "from sklearn.model_selection import train_test_split\n",
    "from sklearn.metrics import mean_squared_error, explained_variance_score\n",
    "from sklearn.linear_model import LinearRegression, LassoLars\n",
    "from sklearn.preprocessing import PolynomialFeatures\n",
    "from sklearn.feature_selection import RFE\n",
    "import wrangle"
   ]
  },
  {
   "cell_type": "code",
   "execution_count": 2,
   "metadata": {},
   "outputs": [],
   "source": [
    "df = wrangle.acquire_and_prep_data()"
   ]
  },
  {
   "cell_type": "code",
   "execution_count": 3,
   "metadata": {},
   "outputs": [
    {
     "data": {
      "text/plain": [
       "(18631, 10)"
      ]
     },
     "execution_count": 3,
     "metadata": {},
     "output_type": "execute_result"
    }
   ],
   "source": [
    "df.head()\n",
    "df.shape"
   ]
  },
  {
   "cell_type": "code",
   "execution_count": 90,
   "metadata": {},
   "outputs": [],
   "source": [
    "# plt rc sets defaults for matplotlib figures\n",
    "plt.rc(\"font\", size=13)\n",
    "plt.rc(\"figure\", figsize= (13,7))"
   ]
  },
  {
   "cell_type": "code",
   "execution_count": 4,
   "metadata": {},
   "outputs": [
    {
     "name": "stdout",
     "output_type": "stream",
     "text": [
      "train -> (10432, 10)\n",
      "validate -> (4472, 10)\n",
      "test -> (3727, 10)\n"
     ]
    }
   ],
   "source": [
    "train, validate, test = wrangle.zillow_split(df)\n",
    "print(f'train -> {train.shape}')\n",
    "print(f'validate -> {validate.shape}')\n",
    "print(f'test -> {test.shape}')"
   ]
  },
  {
   "cell_type": "code",
   "execution_count": 108,
   "metadata": {},
   "outputs": [
    {
     "data": {
      "text/plain": [
       "3    4572\n",
       "2    2588\n",
       "4    2422\n",
       "5     496\n",
       "1     333\n",
       "0      21\n",
       "Name: bedroomcnt, dtype: int64"
      ]
     },
     "execution_count": 108,
     "metadata": {},
     "output_type": "execute_result"
    }
   ],
   "source": [
    "train.bedroomcnt.value_counts()"
   ]
  },
  {
   "cell_type": "code",
   "execution_count": 91,
   "metadata": {
    "scrolled": true
   },
   "outputs": [
    {
     "data": {
      "text/plain": [
       "<matplotlib.axes._subplots.AxesSubplot at 0x7f97bae367d0>"
      ]
     },
     "execution_count": 91,
     "metadata": {},
     "output_type": "execute_result"
    },
    {
     "data": {
      "image/png": "[encoded data removed]",
      "text/plain": [
       "<Figure size 936x504 with 1 Axes>"
      ]
     },
     "metadata": {
      "needs_background": "light"
     },
     "output_type": "display_data"
    }
   ],
   "source": [
    "# looking at the distribution of home values. Going to use the mean\n",
    "train.home_value.hist()"
   ]
  },
  {
   "cell_type": "code",
   "execution_count": 7,
   "metadata": {},
   "outputs": [
    {
     "data": {
      "text/plain": [
       "398323.5135161043"
      ]
     },
     "execution_count": 7,
     "metadata": {},
     "output_type": "execute_result"
    }
   ],
   "source": [
    "# Establishing a baseline. Pre Req 1\n",
    "baseline = train.home_value.mean()\n",
    "baseline"
   ]
  },
  {
   "cell_type": "code",
   "execution_count": 8,
   "metadata": {},
   "outputs": [],
   "source": [
    "# Pre-req Part 2 - build/identify a super simple linear model\n",
    "# Use the OLS (ordinary least square method)\n",
    "from statsmodels.formula.api import ols"
   ]
  },
  {
   "cell_type": "code",
   "execution_count": 9,
   "metadata": {},
   "outputs": [],
   "source": [
    "# The arguments to the ols function are the column names as strings, separated by ~\n",
    "# ols(\"y ~ x\") \n",
    "# ols(\"target ~ feature\")\n",
    "model = ols('home_value ~ sqft', train).fit()"
   ]
  },
  {
   "cell_type": "code",
   "execution_count": 10,
   "metadata": {},
   "outputs": [
    {
     "data": {
      "text/html": [
       "<div>\n",
       "<style scoped>\n",
       "    .dataframe tbody tr th:only-of-type {\n",
       "        vertical-align: middle;\n",
       "    }\n",
       "\n",
       "    .dataframe tbody tr th {\n",
       "        vertical-align: top;\n",
       "    }\n",
       "\n",
       "    .dataframe thead th {\n",
       "        text-align: right;\n",
       "    }\n",
       "</style>\n",
       "<table border=\"1\" class=\"dataframe\">\n",
       "  <thead>\n",
       "    <tr style=\"text-align: right;\">\n",
       "      <th></th>\n",
       "      <th>x</th>\n",
       "      <th>y</th>\n",
       "      <th>baseline</th>\n",
       "      <th>yhat</th>\n",
       "      <th>baseline_residuals</th>\n",
       "      <th>model_residual</th>\n",
       "    </tr>\n",
       "  </thead>\n",
       "  <tbody>\n",
       "    <tr>\n",
       "      <th>2018</th>\n",
       "      <td>1221</td>\n",
       "      <td>379753.0</td>\n",
       "      <td>398323.513516</td>\n",
       "      <td>271856.778793</td>\n",
       "      <td>1.857051e+04</td>\n",
       "      <td>-107896.221207</td>\n",
       "    </tr>\n",
       "    <tr>\n",
       "      <th>11215</th>\n",
       "      <td>3356</td>\n",
       "      <td>1400000.0</td>\n",
       "      <td>398323.513516</td>\n",
       "      <td>894825.084200</td>\n",
       "      <td>-1.001676e+06</td>\n",
       "      <td>-505174.915800</td>\n",
       "    </tr>\n",
       "    <tr>\n",
       "      <th>19234</th>\n",
       "      <td>1630</td>\n",
       "      <td>76165.0</td>\n",
       "      <td>398323.513516</td>\n",
       "      <td>391198.248072</td>\n",
       "      <td>3.221585e+05</td>\n",
       "      <td>315033.248072</td>\n",
       "    </tr>\n",
       "    <tr>\n",
       "      <th>6619</th>\n",
       "      <td>1567</td>\n",
       "      <td>335031.0</td>\n",
       "      <td>398323.513516</td>\n",
       "      <td>372815.576765</td>\n",
       "      <td>6.329251e+04</td>\n",
       "      <td>37784.576765</td>\n",
       "    </tr>\n",
       "    <tr>\n",
       "      <th>16498</th>\n",
       "      <td>1522</td>\n",
       "      <td>457967.0</td>\n",
       "      <td>398323.513516</td>\n",
       "      <td>359685.097260</td>\n",
       "      <td>-5.964349e+04</td>\n",
       "      <td>-98281.902740</td>\n",
       "    </tr>\n",
       "  </tbody>\n",
       "</table>\n",
       "</div>"
      ],
      "text/plain": [
       "          x          y       baseline           yhat  baseline_residuals  \\\n",
       "2018   1221   379753.0  398323.513516  271856.778793        1.857051e+04   \n",
       "11215  3356  1400000.0  398323.513516  894825.084200       -1.001676e+06   \n",
       "19234  1630    76165.0  398323.513516  391198.248072        3.221585e+05   \n",
       "6619   1567   335031.0  398323.513516  372815.576765        6.329251e+04   \n",
       "16498  1522   457967.0  398323.513516  359685.097260       -5.964349e+04   \n",
       "\n",
       "       model_residual  \n",
       "2018   -107896.221207  \n",
       "11215  -505174.915800  \n",
       "19234   315033.248072  \n",
       "6619     37784.576765  \n",
       "16498   -98281.902740  "
      ]
     },
     "execution_count": 10,
     "metadata": {},
     "output_type": "execute_result"
    }
   ],
   "source": [
    "# Pre req 3, calculate residuals/error\n",
    "evaluate = pd.DataFrame()\n",
    "\n",
    "# setting up x independent variable\n",
    "evaluate['x'] = train.sqft\n",
    "\n",
    "# setting up y dependent variable\n",
    "evaluate['y'] = train.home_value\n",
    "\n",
    "# setting up the baseline. baseline was established above\n",
    "evaluate['baseline'] = baseline\n",
    "\n",
    "# setting up y-hat AKA the predicted y-values. Just introduce model\n",
    "evaluate['yhat'] = model.predict()\n",
    "\n",
    "# calculate the baseline residuals (residual - actual y)\n",
    "evaluate['baseline_residuals'] = evaluate.baseline - evaluate.y\n",
    "\n",
    "# calculate the model residuals (y-hat - model)\n",
    "evaluate['model_residual'] = evaluate.yhat - evaluate.y\n",
    "\n",
    "evaluate.head()"
   ]
  },
  {
   "cell_type": "code",
   "execution_count": 11,
   "metadata": {},
   "outputs": [
    {
     "name": "stdout",
     "output_type": "stream",
     "text": [
      "Our model out performed our baseline\n",
      "It makes sense to evaluate this model more thoroughly\n",
      "Baseline SSE 1809200489078154.2\n",
      "Model SSE 1369290144924797.0\n"
     ]
    }
   ],
   "source": [
    "\n",
    "# Calculate if the model beats the baseline\n",
    "# Square errors for 2 reasons\n",
    "# 1. Squaring large numbers increases their magnitude (opposite for small)\n",
    "# 2. Squaring removes negative residuals\n",
    "\n",
    "# Baseline sum of squared errors\n",
    "baseline_sse = (evaluate.baseline_residuals ** 2).sum()\n",
    "\n",
    "# Model sum of squared errors\n",
    "model_sse = (evaluate.model_residual ** 2).sum()\n",
    "\n",
    "# Checking if our model beats our baseline\n",
    "if model_sse < baseline_sse:\n",
    "    print('Our model out performed our baseline')\n",
    "    print('It makes sense to evaluate this model more thoroughly')\n",
    "else:\n",
    "    print('The baseline out performed the model')\n",
    "    \n",
    "print('Baseline SSE', baseline_sse)\n",
    "print('Model SSE', model_sse)\n"
   ]
  },
  {
   "cell_type": "markdown",
   "metadata": {},
   "source": [
    "## Now let's consider evaluation metrics\n",
    "### Sum of Square Error (SSE)\n",
    "- Squaring makes larger errors more significant\n",
    "- Squaring also removes negative residuals\n",
    "### Mean Squared Error (MSE)\n",
    "- Average of all the squared errors\n",
    "### Root Mean Squared Error (RMSE)\n",
    "- Super useful\n",
    "- Converts back to the same units"
   ]
  },
  {
   "cell_type": "code",
   "execution_count": 12,
   "metadata": {},
   "outputs": [],
   "source": [
    "from sklearn.metrics import mean_squared_error\n",
    "from math import sqrt"
   ]
  },
  {
   "cell_type": "code",
   "execution_count": 13,
   "metadata": {},
   "outputs": [
    {
     "name": "stdout",
     "output_type": "stream",
     "text": [
      "SSE is 1369290144924797.0  which is the sum sf squared errors\n",
      "MSE is 131258641192.9445  which is the average squared error\n",
      "RMSE is 362296.34443773306  which is the square root of the MSE\n"
     ]
    }
   ],
   "source": [
    "# Sum the squares of the baseline risidual/error\n",
    "model_sse = (evaluate.model_residual ** 2).sum()\n",
    "\n",
    "# Take the average of the sum of squared errors\n",
    "# mse = model_sse / len(evaluate)\n",
    "\n",
    "# We can also calculate using sklearns mean_squared_error function\n",
    "mse = mean_squared_error(evaluate.y, evaluate.yhat)\n",
    "\n",
    "# Now we'll take the Square Root of the Sum of Errors\n",
    "# Taking the square root is nice because the units of the error \n",
    "# will be in the same units as the target variable.\n",
    "rmse = sqrt(mse)\n",
    "\n",
    "print(\"SSE is\", model_sse, \" which is the sum sf squared errors\")\n",
    "print(\"MSE is\", mse, \" which is the average squared error\")\n",
    "print(\"RMSE is\", rmse, \" which is the square root of the MSE\")"
   ]
  },
  {
   "cell_type": "markdown",
   "metadata": {},
   "source": [
    "## Evaluating Model Significance\n",
    "$R^2$ tells you how well your model fits the data by measuring the strength of the relationship between your model and the dependent variable. However, it is not a formal test for the relationship. The F-test of overall significance is the hypothesis test for this relationship. It indicates whether your linear regression model provides a better fit to the data than a model that contains no independent variables.\n",
    "\n",
    "If the overall F-test is significant (evident through the p-value of the F statistic), you can conclude that $R^2$ does not equal zero, and the correlation between the model and dependent variable is statistically significant."
   ]
  },
  {
   "cell_type": "code",
   "execution_count": 14,
   "metadata": {},
   "outputs": [
    {
     "name": "stdout",
     "output_type": "stream",
     "text": [
      "R-squared =  0.243\n"
     ]
    }
   ],
   "source": [
    "# The model commented below is our model\n",
    "# model = ols('home_value ~ sqft', df).fit()\n",
    "r2 = model.rsquared\n",
    "print('R-squared = ', round(r2,3))"
   ]
  },
  {
   "cell_type": "markdown",
   "metadata": {},
   "source": [
    "We will now compute the p-value to determine if our test is significant, i.e. can we trust that the explained variance means what we think it means? If we have a high $R^2$, does it really mean that there is correlation? If we have only two datapoints, then no"
   ]
  },
  {
   "cell_type": "code",
   "execution_count": 15,
   "metadata": {},
   "outputs": [
    {
     "name": "stdout",
     "output_type": "stream",
     "text": [
      "p-value for the model significance = 0.0\n"
     ]
    },
    {
     "data": {
      "text/plain": [
       "True"
      ]
     },
     "execution_count": 15,
     "metadata": {},
     "output_type": "execute_result"
    }
   ],
   "source": [
    "f_pval = model.f_pvalue\n",
    "print('p-value for the model significance =', f_pval)\n",
    "f_pval < .05"
   ]
  },
  {
   "cell_type": "markdown",
   "metadata": {},
   "source": [
    "- Null hypothesis is that a model not built w/ the independent variables explains the relationship\n",
    "- Alternative hypothesis is that our model built on independent varibles explains the relationship, validates that $R^2$\n",
    "- If p is less than 0.05, you're OK to conclude that your regression model fits the data better than the model with no independent variables, meaning the independent variables in your model improve the fit.\n",
    "- If greater than 0.05, it's probably better to stop using this set of features.\n",
    "- Basically, if the p is low, we can reject the null hypothesis.\n",
    "- And that means we can accept the model as statistically significant"
   ]
  },
  {
   "cell_type": "code",
   "execution_count": 16,
   "metadata": {},
   "outputs": [],
   "source": [
    "def plot_residuals(actual, predicted):\n",
    "    residuals = actual - predicted\n",
    "    # ls line style allows dotted line\n",
    "    plt.hlines(0, actual.min(), actual.max(), ls=':')   \n",
    "    plt.scatter(actual, residuals)\n",
    "    plt.ylabel('residual ($y - \\hat{y}$)')\n",
    "    plt.xlabel('actual value ($y$)')\n",
    "    plt.title('Actual vs Residual')\n",
    "    return plt.gca()"
   ]
  },
  {
   "cell_type": "code",
   "execution_count": 92,
   "metadata": {},
   "outputs": [
    {
     "data": {
      "text/plain": [
       "<matplotlib.axes._subplots.AxesSubplot at 0x7f97bac3d750>"
      ]
     },
     "execution_count": 92,
     "metadata": {},
     "output_type": "execute_result"
    },
    {
     "data": {
      "image/png": "[encoded data removed]",
      "text/plain": [
       "<Figure size 936x504 with 1 Axes>"
      ]
     },
     "metadata": {
      "needs_background": "light"
     },
     "output_type": "display_data"
    }
   ],
   "source": [
    "plot_residuals(evaluate.y, evaluate.yhat)"
   ]
  },
  {
   "cell_type": "code",
   "execution_count": 93,
   "metadata": {},
   "outputs": [
    {
     "data": {
      "image/png": "[encoded data removed]",
      "text/plain": [
       "<Figure size 936x504 with 1 Axes>"
      ]
     },
     "metadata": {
      "needs_background": "light"
     },
     "output_type": "display_data"
    }
   ],
   "source": [
    "plt.title(\"Bathroom Count Compared to Home Value\")\n",
    "\n",
    "sns.regplot(x=\"bathroomcnt\", y=\"home_value\", data=train)\n",
    "plt.show()\n"
   ]
  },
  {
   "cell_type": "code",
   "execution_count": 19,
   "metadata": {},
   "outputs": [],
   "source": [
    "# The arguments to the ols function are the column names as strings, separated by ~\n",
    "# ols(\"y ~ x\") \n",
    "# ols(\"target ~ feature\")\n",
    "model2 = ols('home_value ~ bathroomcnt', train).fit()"
   ]
  },
  {
   "cell_type": "code",
   "execution_count": 20,
   "metadata": {},
   "outputs": [
    {
     "data": {
      "text/html": [
       "<div>\n",
       "<style scoped>\n",
       "    .dataframe tbody tr th:only-of-type {\n",
       "        vertical-align: middle;\n",
       "    }\n",
       "\n",
       "    .dataframe tbody tr th {\n",
       "        vertical-align: top;\n",
       "    }\n",
       "\n",
       "    .dataframe thead th {\n",
       "        text-align: right;\n",
       "    }\n",
       "</style>\n",
       "<table border=\"1\" class=\"dataframe\">\n",
       "  <thead>\n",
       "    <tr style=\"text-align: right;\">\n",
       "      <th></th>\n",
       "      <th>x</th>\n",
       "      <th>y</th>\n",
       "      <th>baseline</th>\n",
       "      <th>yhat</th>\n",
       "      <th>baseline_residuals</th>\n",
       "      <th>model_residual</th>\n",
       "    </tr>\n",
       "  </thead>\n",
       "  <tbody>\n",
       "    <tr>\n",
       "      <th>2018</th>\n",
       "      <td>3.0</td>\n",
       "      <td>379753.0</td>\n",
       "      <td>398323.513516</td>\n",
       "      <td>571991.525515</td>\n",
       "      <td>1.857051e+04</td>\n",
       "      <td>192238.525515</td>\n",
       "    </tr>\n",
       "    <tr>\n",
       "      <th>11215</th>\n",
       "      <td>4.0</td>\n",
       "      <td>1400000.0</td>\n",
       "      <td>398323.513516</td>\n",
       "      <td>769301.991773</td>\n",
       "      <td>-1.001676e+06</td>\n",
       "      <td>-630698.008227</td>\n",
       "    </tr>\n",
       "    <tr>\n",
       "      <th>19234</th>\n",
       "      <td>2.0</td>\n",
       "      <td>76165.0</td>\n",
       "      <td>398323.513516</td>\n",
       "      <td>374681.059258</td>\n",
       "      <td>3.221585e+05</td>\n",
       "      <td>298516.059258</td>\n",
       "    </tr>\n",
       "    <tr>\n",
       "      <th>6619</th>\n",
       "      <td>3.0</td>\n",
       "      <td>335031.0</td>\n",
       "      <td>398323.513516</td>\n",
       "      <td>571991.525515</td>\n",
       "      <td>6.329251e+04</td>\n",
       "      <td>236960.525515</td>\n",
       "    </tr>\n",
       "    <tr>\n",
       "      <th>16498</th>\n",
       "      <td>3.0</td>\n",
       "      <td>457967.0</td>\n",
       "      <td>398323.513516</td>\n",
       "      <td>571991.525515</td>\n",
       "      <td>-5.964349e+04</td>\n",
       "      <td>114024.525515</td>\n",
       "    </tr>\n",
       "  </tbody>\n",
       "</table>\n",
       "</div>"
      ],
      "text/plain": [
       "         x          y       baseline           yhat  baseline_residuals  \\\n",
       "2018   3.0   379753.0  398323.513516  571991.525515        1.857051e+04   \n",
       "11215  4.0  1400000.0  398323.513516  769301.991773       -1.001676e+06   \n",
       "19234  2.0    76165.0  398323.513516  374681.059258        3.221585e+05   \n",
       "6619   3.0   335031.0  398323.513516  571991.525515        6.329251e+04   \n",
       "16498  3.0   457967.0  398323.513516  571991.525515       -5.964349e+04   \n",
       "\n",
       "       model_residual  \n",
       "2018    192238.525515  \n",
       "11215  -630698.008227  \n",
       "19234   298516.059258  \n",
       "6619    236960.525515  \n",
       "16498   114024.525515  "
      ]
     },
     "execution_count": 20,
     "metadata": {},
     "output_type": "execute_result"
    }
   ],
   "source": [
    "# Pre req 3, calculate residuals/error\n",
    "evaluate = pd.DataFrame()\n",
    "\n",
    "# setting up x independent variable\n",
    "evaluate['x'] = train.bathroomcnt\n",
    "\n",
    "# setting up y dependent variable\n",
    "evaluate['y'] = train.home_value\n",
    "\n",
    "# setting up the baseline. baseline was established above\n",
    "evaluate['baseline'] = baseline\n",
    "\n",
    "# setting up y-hat AKA the predicted y-values. Just introduce model\n",
    "evaluate['yhat'] = model2.predict()\n",
    "\n",
    "# calculate the baseline residuals (residual - actual y)\n",
    "evaluate['baseline_residuals'] = evaluate.baseline - evaluate.y\n",
    "\n",
    "# calculate the model residuals (y-hat - model)\n",
    "evaluate['model_residual'] = evaluate.yhat - evaluate.y\n",
    "\n",
    "evaluate.head()"
   ]
  },
  {
   "cell_type": "code",
   "execution_count": 21,
   "metadata": {
    "scrolled": true
   },
   "outputs": [
    {
     "name": "stdout",
     "output_type": "stream",
     "text": [
      "Our model out performed our baseline\n",
      "It makes sense to evaluate this model more thoroughly\n",
      "Baseline SSE 1809200489078154.2\n",
      "Model SSE 1551310178948012.5\n"
     ]
    }
   ],
   "source": [
    "# Baseline sum of squared errors\n",
    "baseline_sse = (evaluate.baseline_residuals ** 2).sum()\n",
    "\n",
    "# Model sum of squared errors\n",
    "model_sse = (evaluate.model_residual ** 2).sum()\n",
    "\n",
    "# Checking if our model beats our baseline\n",
    "if model_sse < baseline_sse:\n",
    "    print('Our model out performed our baseline')\n",
    "    print('It makes sense to evaluate this model more thoroughly')\n",
    "else:\n",
    "    print('The baseline out performed the model')\n",
    "    \n",
    "print('Baseline SSE', baseline_sse)\n",
    "print('Model SSE', model_sse)"
   ]
  },
  {
   "cell_type": "code",
   "execution_count": 22,
   "metadata": {},
   "outputs": [
    {
     "name": "stdout",
     "output_type": "stream",
     "text": [
      "SSE is 1551310178948012.5  which is the sum sf squared errors\n",
      "MSE is 148706880650.69138  which is the average squared error\n",
      "RMSE is 385625.31121633  which is the square root of the MSE\n"
     ]
    }
   ],
   "source": [
    "# Sum the squares of the baseline risidual/error\n",
    "model_sse = (evaluate.model_residual ** 2).sum()\n",
    "\n",
    "# Take the average of the sum of squared errors\n",
    "# mse = model_sse / len(evaluate)\n",
    "\n",
    "# We can also calculate using sklearns mean_squared_error function\n",
    "mse = mean_squared_error(evaluate.y, evaluate.yhat)\n",
    "\n",
    "# Now we'll take the Square Root of the Sum of Errors\n",
    "# Taking the square root is nice because the units of the error \n",
    "# will be in the same units as the target variable.\n",
    "rmse = sqrt(mse)\n",
    "\n",
    "print(\"SSE is\", model_sse, \" which is the sum sf squared errors\")\n",
    "print(\"MSE is\", mse, \" which is the average squared error\")\n",
    "print(\"RMSE is\", rmse, \" which is the square root of the MSE\")"
   ]
  },
  {
   "cell_type": "code",
   "execution_count": 23,
   "metadata": {},
   "outputs": [
    {
     "name": "stdout",
     "output_type": "stream",
     "text": [
      "R-squared =  0.143\n"
     ]
    }
   ],
   "source": [
    "# The model commented below is our model\n",
    "# model2 = ols('home_value ~ bathroomcnt', df).fit()\n",
    "r2 = model2.rsquared\n",
    "print('R-squared = ', round(r2,3))"
   ]
  },
  {
   "cell_type": "code",
   "execution_count": 24,
   "metadata": {},
   "outputs": [
    {
     "name": "stdout",
     "output_type": "stream",
     "text": [
      "p-value for the model significance = 0.0\n"
     ]
    },
    {
     "data": {
      "text/plain": [
       "True"
      ]
     },
     "execution_count": 24,
     "metadata": {},
     "output_type": "execute_result"
    }
   ],
   "source": [
    "f_pval = model.f_pvalue\n",
    "print('p-value for the model significance =', f_pval)\n",
    "f_pval < .05"
   ]
  },
  {
   "cell_type": "code",
   "execution_count": 94,
   "metadata": {},
   "outputs": [
    {
     "data": {
      "text/plain": [
       "<matplotlib.axes._subplots.AxesSubplot at 0x7f97ba8d2990>"
      ]
     },
     "execution_count": 94,
     "metadata": {},
     "output_type": "execute_result"
    },
    {
     "data": {
      "image/png": "[encoded data removed]",
      "text/plain": [
       "<Figure size 936x504 with 1 Axes>"
      ]
     },
     "metadata": {
      "needs_background": "light"
     },
     "output_type": "display_data"
    }
   ],
   "source": [
    "plot_residuals(evaluate.y, evaluate.yhat)"
   ]
  },
  {
   "cell_type": "code",
   "execution_count": 26,
   "metadata": {},
   "outputs": [],
   "source": [
    "# The arguments to the ols function are the column names as strings, separated by ~\n",
    "# ols(\"y ~ x\") \n",
    "# ols(\"target ~ feature\")\n",
    "model3 = ols('home_value ~ bedroomcnt', train).fit()"
   ]
  },
  {
   "cell_type": "code",
   "execution_count": 27,
   "metadata": {},
   "outputs": [
    {
     "data": {
      "text/html": [
       "<div>\n",
       "<style scoped>\n",
       "    .dataframe tbody tr th:only-of-type {\n",
       "        vertical-align: middle;\n",
       "    }\n",
       "\n",
       "    .dataframe tbody tr th {\n",
       "        vertical-align: top;\n",
       "    }\n",
       "\n",
       "    .dataframe thead th {\n",
       "        text-align: right;\n",
       "    }\n",
       "</style>\n",
       "<table border=\"1\" class=\"dataframe\">\n",
       "  <thead>\n",
       "    <tr style=\"text-align: right;\">\n",
       "      <th></th>\n",
       "      <th>x</th>\n",
       "      <th>y</th>\n",
       "      <th>baseline</th>\n",
       "      <th>yhat</th>\n",
       "      <th>baseline_residuals</th>\n",
       "      <th>model_residual</th>\n",
       "    </tr>\n",
       "  </thead>\n",
       "  <tbody>\n",
       "    <tr>\n",
       "      <th>2018</th>\n",
       "      <td>3</td>\n",
       "      <td>379753.0</td>\n",
       "      <td>398323.513516</td>\n",
       "      <td>397459.470252</td>\n",
       "      <td>1.857051e+04</td>\n",
       "      <td>17706.470252</td>\n",
       "    </tr>\n",
       "    <tr>\n",
       "      <th>11215</th>\n",
       "      <td>5</td>\n",
       "      <td>1400000.0</td>\n",
       "      <td>398323.513516</td>\n",
       "      <td>583308.940924</td>\n",
       "      <td>-1.001676e+06</td>\n",
       "      <td>-816691.059076</td>\n",
       "    </tr>\n",
       "    <tr>\n",
       "      <th>19234</th>\n",
       "      <td>3</td>\n",
       "      <td>76165.0</td>\n",
       "      <td>398323.513516</td>\n",
       "      <td>397459.470252</td>\n",
       "      <td>3.221585e+05</td>\n",
       "      <td>321294.470252</td>\n",
       "    </tr>\n",
       "    <tr>\n",
       "      <th>6619</th>\n",
       "      <td>3</td>\n",
       "      <td>335031.0</td>\n",
       "      <td>398323.513516</td>\n",
       "      <td>397459.470252</td>\n",
       "      <td>6.329251e+04</td>\n",
       "      <td>62428.470252</td>\n",
       "    </tr>\n",
       "    <tr>\n",
       "      <th>16498</th>\n",
       "      <td>4</td>\n",
       "      <td>457967.0</td>\n",
       "      <td>398323.513516</td>\n",
       "      <td>490384.205588</td>\n",
       "      <td>-5.964349e+04</td>\n",
       "      <td>32417.205588</td>\n",
       "    </tr>\n",
       "  </tbody>\n",
       "</table>\n",
       "</div>"
      ],
      "text/plain": [
       "       x          y       baseline           yhat  baseline_residuals  \\\n",
       "2018   3   379753.0  398323.513516  397459.470252        1.857051e+04   \n",
       "11215  5  1400000.0  398323.513516  583308.940924       -1.001676e+06   \n",
       "19234  3    76165.0  398323.513516  397459.470252        3.221585e+05   \n",
       "6619   3   335031.0  398323.513516  397459.470252        6.329251e+04   \n",
       "16498  4   457967.0  398323.513516  490384.205588       -5.964349e+04   \n",
       "\n",
       "       model_residual  \n",
       "2018     17706.470252  \n",
       "11215  -816691.059076  \n",
       "19234   321294.470252  \n",
       "6619     62428.470252  \n",
       "16498    32417.205588  "
      ]
     },
     "execution_count": 27,
     "metadata": {},
     "output_type": "execute_result"
    }
   ],
   "source": [
    "# Pre req 3, calculate residuals/error\n",
    "evaluate = pd.DataFrame()\n",
    "\n",
    "# setting up x independent variable\n",
    "evaluate['x'] = train.bedroomcnt\n",
    "\n",
    "# setting up y dependent variable\n",
    "evaluate['y'] = train.home_value\n",
    "\n",
    "# setting up the baseline. baseline was established above\n",
    "evaluate['baseline'] = baseline\n",
    "\n",
    "# setting up y-hat AKA the predicted y-values. Just introduce model\n",
    "evaluate['yhat'] = model3.predict()\n",
    "\n",
    "# calculate the baseline residuals (residual - actual y)\n",
    "evaluate['baseline_residuals'] = evaluate.baseline - evaluate.y\n",
    "\n",
    "# calculate the model residuals (y-hat - model)\n",
    "evaluate['model_residual'] = evaluate.yhat - evaluate.y\n",
    "\n",
    "evaluate.head()"
   ]
  },
  {
   "cell_type": "code",
   "execution_count": 28,
   "metadata": {},
   "outputs": [
    {
     "name": "stdout",
     "output_type": "stream",
     "text": [
      "Our model out performed our baseline\n",
      "It makes sense to evaluate this model more thoroughly\n",
      "Baseline SSE 1809200489078154.2\n",
      "Model SSE 1735681197491118.8\n"
     ]
    }
   ],
   "source": [
    "# Baseline sum of squared errors\n",
    "baseline_sse = (evaluate.baseline_residuals ** 2).sum()\n",
    "\n",
    "# Model sum of squared errors\n",
    "model_sse = (evaluate.model_residual ** 2).sum()\n",
    "\n",
    "# Checking if our model beats our baseline\n",
    "if model_sse < baseline_sse:\n",
    "    print('Our model out performed our baseline')\n",
    "    print('It makes sense to evaluate this model more thoroughly')\n",
    "else:\n",
    "    print('The baseline out performed the model')\n",
    "    \n",
    "print('Baseline SSE', baseline_sse)\n",
    "print('Model SSE', model_sse)"
   ]
  },
  {
   "cell_type": "code",
   "execution_count": 29,
   "metadata": {},
   "outputs": [
    {
     "name": "stdout",
     "output_type": "stream",
     "text": [
      "SSE is 1735681197491118.8  which is the sum sf squared errors\n",
      "MSE is 166380482888.3358  which is the average squared error\n",
      "RMSE is 407897.63775772933  which is the square root of the MSE\n"
     ]
    }
   ],
   "source": [
    "# Sum the squares of the baseline risidual/error\n",
    "model_sse = (evaluate.model_residual ** 2).sum()\n",
    "\n",
    "# Take the average of the sum of squared errors\n",
    "# mse = model_sse / len(evaluate)\n",
    "\n",
    "# We can also calculate using sklearns mean_squared_error function\n",
    "mse = mean_squared_error(evaluate.y, evaluate.yhat)\n",
    "\n",
    "# Now we'll take the Square Root of the Sum of Errors\n",
    "# Taking the square root is nice because the units of the error \n",
    "# will be in the same units as the target variable.\n",
    "rmse = sqrt(mse)\n",
    "\n",
    "print(\"SSE is\", model_sse, \" which is the sum sf squared errors\")\n",
    "print(\"MSE is\", mse, \" which is the average squared error\")\n",
    "print(\"RMSE is\", rmse, \" which is the square root of the MSE\")"
   ]
  },
  {
   "cell_type": "code",
   "execution_count": 30,
   "metadata": {},
   "outputs": [
    {
     "name": "stdout",
     "output_type": "stream",
     "text": [
      "R-squared =  0.041\n"
     ]
    }
   ],
   "source": [
    "# The model commented below is our model\n",
    "# model3 = ols('home_value ~ bedroomcnt', df).fit()\n",
    "r2 = model3.rsquared\n",
    "print('R-squared = ', round(r2,3))"
   ]
  },
  {
   "cell_type": "code",
   "execution_count": 31,
   "metadata": {},
   "outputs": [
    {
     "name": "stdout",
     "output_type": "stream",
     "text": [
      "p-value for the model significance = 0.0\n"
     ]
    },
    {
     "data": {
      "text/plain": [
       "True"
      ]
     },
     "execution_count": 31,
     "metadata": {},
     "output_type": "execute_result"
    }
   ],
   "source": [
    "f_pval = model.f_pvalue\n",
    "print('p-value for the model significance =', f_pval)\n",
    "f_pval < .05"
   ]
  },
  {
   "cell_type": "code",
   "execution_count": 95,
   "metadata": {
    "scrolled": true
   },
   "outputs": [
    {
     "data": {
      "text/plain": [
       "<matplotlib.axes._subplots.AxesSubplot at 0x7f97b809ea50>"
      ]
     },
     "execution_count": 95,
     "metadata": {},
     "output_type": "execute_result"
    },
    {
     "data": {
      "image/png": "[encoded data removed]",
      "text/plain": [
       "<Figure size 936x504 with 1 Axes>"
      ]
     },
     "metadata": {
      "needs_background": "light"
     },
     "output_type": "display_data"
    }
   ],
   "source": [
    "plot_residuals(evaluate.y, evaluate.yhat)"
   ]
  },
  {
   "cell_type": "code",
   "execution_count": 33,
   "metadata": {},
   "outputs": [],
   "source": [
    "# ols(\"target ~ feature\")\n",
    "model4 = ols('home_value ~ fullbathcnt', train).fit()"
   ]
  },
  {
   "cell_type": "code",
   "execution_count": 34,
   "metadata": {},
   "outputs": [
    {
     "data": {
      "text/html": [
       "<div>\n",
       "<style scoped>\n",
       "    .dataframe tbody tr th:only-of-type {\n",
       "        vertical-align: middle;\n",
       "    }\n",
       "\n",
       "    .dataframe tbody tr th {\n",
       "        vertical-align: top;\n",
       "    }\n",
       "\n",
       "    .dataframe thead th {\n",
       "        text-align: right;\n",
       "    }\n",
       "</style>\n",
       "<table border=\"1\" class=\"dataframe\">\n",
       "  <thead>\n",
       "    <tr style=\"text-align: right;\">\n",
       "      <th></th>\n",
       "      <th>x</th>\n",
       "      <th>y</th>\n",
       "      <th>baseline</th>\n",
       "      <th>yhat</th>\n",
       "      <th>baseline_residuals</th>\n",
       "      <th>model_residual</th>\n",
       "    </tr>\n",
       "  </thead>\n",
       "  <tbody>\n",
       "    <tr>\n",
       "      <th>2018</th>\n",
       "      <td>3.0</td>\n",
       "      <td>379753.0</td>\n",
       "      <td>398323.513516</td>\n",
       "      <td>577177.995046</td>\n",
       "      <td>1.857051e+04</td>\n",
       "      <td>197424.995046</td>\n",
       "    </tr>\n",
       "    <tr>\n",
       "      <th>11215</th>\n",
       "      <td>4.0</td>\n",
       "      <td>1400000.0</td>\n",
       "      <td>398323.513516</td>\n",
       "      <td>771391.584234</td>\n",
       "      <td>-1.001676e+06</td>\n",
       "      <td>-628608.415766</td>\n",
       "    </tr>\n",
       "    <tr>\n",
       "      <th>19234</th>\n",
       "      <td>2.0</td>\n",
       "      <td>76165.0</td>\n",
       "      <td>398323.513516</td>\n",
       "      <td>382964.405859</td>\n",
       "      <td>3.221585e+05</td>\n",
       "      <td>306799.405859</td>\n",
       "    </tr>\n",
       "    <tr>\n",
       "      <th>6619</th>\n",
       "      <td>3.0</td>\n",
       "      <td>335031.0</td>\n",
       "      <td>398323.513516</td>\n",
       "      <td>577177.995046</td>\n",
       "      <td>6.329251e+04</td>\n",
       "      <td>242146.995046</td>\n",
       "    </tr>\n",
       "    <tr>\n",
       "      <th>16498</th>\n",
       "      <td>3.0</td>\n",
       "      <td>457967.0</td>\n",
       "      <td>398323.513516</td>\n",
       "      <td>577177.995046</td>\n",
       "      <td>-5.964349e+04</td>\n",
       "      <td>119210.995046</td>\n",
       "    </tr>\n",
       "  </tbody>\n",
       "</table>\n",
       "</div>"
      ],
      "text/plain": [
       "         x          y       baseline           yhat  baseline_residuals  \\\n",
       "2018   3.0   379753.0  398323.513516  577177.995046        1.857051e+04   \n",
       "11215  4.0  1400000.0  398323.513516  771391.584234       -1.001676e+06   \n",
       "19234  2.0    76165.0  398323.513516  382964.405859        3.221585e+05   \n",
       "6619   3.0   335031.0  398323.513516  577177.995046        6.329251e+04   \n",
       "16498  3.0   457967.0  398323.513516  577177.995046       -5.964349e+04   \n",
       "\n",
       "       model_residual  \n",
       "2018    197424.995046  \n",
       "11215  -628608.415766  \n",
       "19234   306799.405859  \n",
       "6619    242146.995046  \n",
       "16498   119210.995046  "
      ]
     },
     "execution_count": 34,
     "metadata": {},
     "output_type": "execute_result"
    }
   ],
   "source": [
    "# Pre req 3, calculate residuals/error\n",
    "evaluate = pd.DataFrame()\n",
    "\n",
    "# setting up x independent variable\n",
    "evaluate['x'] = train.fullbathcnt\n",
    "\n",
    "# setting up y dependent variable\n",
    "evaluate['y'] = train.home_value\n",
    "\n",
    "# setting up the baseline. baseline was established above\n",
    "evaluate['baseline'] = baseline\n",
    "\n",
    "# setting up y-hat AKA the predicted y-values. Just introduce model\n",
    "evaluate['yhat'] = model4.predict()\n",
    "\n",
    "# calculate the baseline residuals (residual - actual y)\n",
    "evaluate['baseline_residuals'] = evaluate.baseline - evaluate.y\n",
    "\n",
    "# calculate the model residuals (y-hat - model)\n",
    "evaluate['model_residual'] = evaluate.yhat - evaluate.y\n",
    "\n",
    "evaluate.head()"
   ]
  },
  {
   "cell_type": "code",
   "execution_count": 35,
   "metadata": {},
   "outputs": [
    {
     "name": "stdout",
     "output_type": "stream",
     "text": [
      "Our model out performed our baseline\n",
      "It makes sense to evaluate this model more thoroughly\n",
      "Baseline SSE 1809200489078154.2\n",
      "Model SSE 1567355987360122.5\n"
     ]
    }
   ],
   "source": [
    "# Baseline sum of squared errors\n",
    "baseline_sse = (evaluate.baseline_residuals ** 2).sum()\n",
    "\n",
    "# Model sum of squared errors\n",
    "model_sse = (evaluate.model_residual ** 2).sum()\n",
    "\n",
    "# Checking if our model beats our baseline\n",
    "if model_sse < baseline_sse:\n",
    "    print('Our model out performed our baseline')\n",
    "    print('It makes sense to evaluate this model more thoroughly')\n",
    "else:\n",
    "    print('The baseline out performed the model')\n",
    "    \n",
    "print('Baseline SSE', baseline_sse)\n",
    "print('Model SSE', model_sse)"
   ]
  },
  {
   "cell_type": "code",
   "execution_count": 36,
   "metadata": {},
   "outputs": [
    {
     "name": "stdout",
     "output_type": "stream",
     "text": [
      "SSE is 1567355987360122.5  which is the sum sf squared errors\n",
      "MSE is 150245014125.77863  which is the average squared error\n",
      "RMSE is 387614.51743423985  which is the square root of the MSE\n"
     ]
    }
   ],
   "source": [
    "# Sum the squares of the baseline risidual/error\n",
    "model_sse = (evaluate.model_residual ** 2).sum()\n",
    "\n",
    "# Take the average of the sum of squared errors\n",
    "# mse = model_sse / len(evaluate)\n",
    "\n",
    "# We can also calculate using sklearns mean_squared_error function\n",
    "mse = mean_squared_error(evaluate.y, evaluate.yhat)\n",
    "\n",
    "# Now we'll take the Square Root of the Sum of Errors\n",
    "# Taking the square root is nice because the units of the error \n",
    "# will be in the same units as the target variable.\n",
    "rmse = sqrt(mse)\n",
    "\n",
    "print(\"SSE is\", model_sse, \" which is the sum sf squared errors\")\n",
    "print(\"MSE is\", mse, \" which is the average squared error\")\n",
    "print(\"RMSE is\", rmse, \" which is the square root of the MSE\")"
   ]
  },
  {
   "cell_type": "code",
   "execution_count": 37,
   "metadata": {},
   "outputs": [
    {
     "name": "stdout",
     "output_type": "stream",
     "text": [
      "R-squared =  0.134\n"
     ]
    }
   ],
   "source": [
    "# The model commented below is our model\n",
    "# model4 = ols('home_value ~ fullbathcnt', df).fit()\n",
    "r2 = model4.rsquared\n",
    "print('R-squared = ', round(r2,3))"
   ]
  },
  {
   "cell_type": "code",
   "execution_count": 38,
   "metadata": {},
   "outputs": [
    {
     "name": "stdout",
     "output_type": "stream",
     "text": [
      "p-value for the model significance = 0.0\n"
     ]
    },
    {
     "data": {
      "text/plain": [
       "True"
      ]
     },
     "execution_count": 38,
     "metadata": {},
     "output_type": "execute_result"
    }
   ],
   "source": [
    "f_pval = model.f_pvalue\n",
    "print('p-value for the model significance =', f_pval)\n",
    "f_pval < .05"
   ]
  },
  {
   "cell_type": "code",
   "execution_count": 96,
   "metadata": {},
   "outputs": [
    {
     "data": {
      "text/plain": [
       "<matplotlib.axes._subplots.AxesSubplot at 0x7f97bad1c3d0>"
      ]
     },
     "execution_count": 96,
     "metadata": {},
     "output_type": "execute_result"
    },
    {
     "data": {
      "image/png": "[encoded data removed]",
      "text/plain": [
       "<Figure size 936x504 with 1 Axes>"
      ]
     },
     "metadata": {
      "needs_background": "light"
     },
     "output_type": "display_data"
    }
   ],
   "source": [
    "plot_residuals(evaluate.y, evaluate.yhat)"
   ]
  },
  {
   "cell_type": "markdown",
   "metadata": {},
   "source": [
    "### Takeaway - They all pass the F-Test and are significant to use in our model. We will run  a SelectkBest and f_regression on these variables including yearbuilt."
   ]
  },
  {
   "cell_type": "markdown",
   "metadata": {},
   "source": [
    "## SelectKBest and f_regression"
   ]
  },
  {
   "cell_type": "code",
   "execution_count": 40,
   "metadata": {},
   "outputs": [],
   "source": [
    "from sklearn.feature_selection import SelectKBest, f_regression"
   ]
  },
  {
   "cell_type": "code",
   "execution_count": 41,
   "metadata": {},
   "outputs": [
    {
     "data": {
      "text/html": [
       "<div>\n",
       "<style scoped>\n",
       "    .dataframe tbody tr th:only-of-type {\n",
       "        vertical-align: middle;\n",
       "    }\n",
       "\n",
       "    .dataframe tbody tr th {\n",
       "        vertical-align: top;\n",
       "    }\n",
       "\n",
       "    .dataframe thead th {\n",
       "        text-align: right;\n",
       "    }\n",
       "</style>\n",
       "<table border=\"1\" class=\"dataframe\">\n",
       "  <thead>\n",
       "    <tr style=\"text-align: right;\">\n",
       "      <th></th>\n",
       "      <th>fullbathcnt</th>\n",
       "      <th>sqft</th>\n",
       "      <th>bathroomcnt</th>\n",
       "      <th>bedroomcnt</th>\n",
       "      <th>zip_code</th>\n",
       "      <th>taxamount</th>\n",
       "      <th>home_value</th>\n",
       "      <th>yearbuilt</th>\n",
       "      <th>tax_rate</th>\n",
       "      <th>county</th>\n",
       "    </tr>\n",
       "  </thead>\n",
       "  <tbody>\n",
       "    <tr>\n",
       "      <th>2018</th>\n",
       "      <td>3.0</td>\n",
       "      <td>1221</td>\n",
       "      <td>3.0</td>\n",
       "      <td>3</td>\n",
       "      <td>96124</td>\n",
       "      <td>4561.63</td>\n",
       "      <td>379753.0</td>\n",
       "      <td>1985</td>\n",
       "      <td>1.20</td>\n",
       "      <td>Los Angeles County</td>\n",
       "    </tr>\n",
       "    <tr>\n",
       "      <th>11215</th>\n",
       "      <td>4.0</td>\n",
       "      <td>3356</td>\n",
       "      <td>4.0</td>\n",
       "      <td>5</td>\n",
       "      <td>96037</td>\n",
       "      <td>16711.21</td>\n",
       "      <td>1400000.0</td>\n",
       "      <td>2004</td>\n",
       "      <td>1.19</td>\n",
       "      <td>Los Angeles County</td>\n",
       "    </tr>\n",
       "    <tr>\n",
       "      <th>19234</th>\n",
       "      <td>2.0</td>\n",
       "      <td>1630</td>\n",
       "      <td>2.0</td>\n",
       "      <td>3</td>\n",
       "      <td>96221</td>\n",
       "      <td>975.78</td>\n",
       "      <td>76165.0</td>\n",
       "      <td>1952</td>\n",
       "      <td>1.28</td>\n",
       "      <td>Los Angeles County</td>\n",
       "    </tr>\n",
       "    <tr>\n",
       "      <th>6619</th>\n",
       "      <td>3.0</td>\n",
       "      <td>1567</td>\n",
       "      <td>3.0</td>\n",
       "      <td>3</td>\n",
       "      <td>96507</td>\n",
       "      <td>4149.74</td>\n",
       "      <td>335031.0</td>\n",
       "      <td>1957</td>\n",
       "      <td>1.24</td>\n",
       "      <td>Los Angeles County</td>\n",
       "    </tr>\n",
       "    <tr>\n",
       "      <th>16498</th>\n",
       "      <td>3.0</td>\n",
       "      <td>1522</td>\n",
       "      <td>3.0</td>\n",
       "      <td>4</td>\n",
       "      <td>96497</td>\n",
       "      <td>5959.90</td>\n",
       "      <td>457967.0</td>\n",
       "      <td>1984</td>\n",
       "      <td>1.30</td>\n",
       "      <td>Los Angeles County</td>\n",
       "    </tr>\n",
       "  </tbody>\n",
       "</table>\n",
       "</div>"
      ],
      "text/plain": [
       "       fullbathcnt  sqft  bathroomcnt  bedroomcnt  zip_code  taxamount  \\\n",
       "2018           3.0  1221          3.0           3     96124    4561.63   \n",
       "11215          4.0  3356          4.0           5     96037   16711.21   \n",
       "19234          2.0  1630          2.0           3     96221     975.78   \n",
       "6619           3.0  1567          3.0           3     96507    4149.74   \n",
       "16498          3.0  1522          3.0           4     96497    5959.90   \n",
       "\n",
       "       home_value  yearbuilt  tax_rate              county  \n",
       "2018     379753.0       1985      1.20  Los Angeles County  \n",
       "11215   1400000.0       2004      1.19  Los Angeles County  \n",
       "19234     76165.0       1952      1.28  Los Angeles County  \n",
       "6619     335031.0       1957      1.24  Los Angeles County  \n",
       "16498    457967.0       1984      1.30  Los Angeles County  "
      ]
     },
     "execution_count": 41,
     "metadata": {},
     "output_type": "execute_result"
    }
   ],
   "source": [
    "train.head()"
   ]
  },
  {
   "cell_type": "code",
   "execution_count": 42,
   "metadata": {},
   "outputs": [],
   "source": [
    "# Split into X and y data frames\n",
    "X_train = train.drop(columns=['home_value', 'county', 'zip_code', 'taxamount','tax_rate'])\n",
    "X_validate = validate.drop(columns=['home_value', 'county', 'zip_code', 'taxamount','tax_rate'])\n",
    "X_test = test.drop(columns=['home_value', 'county', 'zip_code', 'taxamount','tax_rate'])\n",
    "\n",
    "y_train = train[['home_value']]\n",
    "y_validate = validate[['home_value']]\n",
    "y_test = test[['home_value']]\n"
   ]
  },
  {
   "cell_type": "code",
   "execution_count": 43,
   "metadata": {},
   "outputs": [],
   "source": [
    "# Create scaler object\n",
    "from sklearn.preprocessing import MinMaxScaler\n",
    "\n",
    "scaler = MinMaxScaler(copy=True).fit(X_train)\n",
    "\n",
    "X_train_scaled = scaler.transform(X_train)\n",
    "X_validate_scaled = scaler.transform(X_validate)\n",
    "X_test_scaled = scaler.transform(X_test)"
   ]
  },
  {
   "cell_type": "code",
   "execution_count": 44,
   "metadata": {},
   "outputs": [],
   "source": [
    "# Create dataframes out of the scaled arrays that were generated by the scaler tranform.\n",
    "X_train_scaled = pd.DataFrame(X_train_scaled, \n",
    "                              columns=X_train.columns.values).\\\n",
    "                            set_index([X_train.index.values])\n",
    "X_validate_scaled = pd.DataFrame(X_validate_scaled, \n",
    "                                columns=X_validate.columns.values).\\\n",
    "                            set_index([X_validate.index.values])\n",
    "X_test_scaled = pd.DataFrame(X_test_scaled, \n",
    "                                columns=X_test.columns.values).\\\n",
    "                            set_index([X_test.index.values])"
   ]
  },
  {
   "cell_type": "code",
   "execution_count": 45,
   "metadata": {},
   "outputs": [],
   "source": [
    "#train, validate, test = wrangle.add_scaled_columns(train, validate, test, scaler)"
   ]
  },
  {
   "cell_type": "code",
   "execution_count": 46,
   "metadata": {},
   "outputs": [
    {
     "data": {
      "text/plain": [
       "fullbathcnt    float64\n",
       "sqft             int64\n",
       "bathroomcnt    float64\n",
       "bedroomcnt       int64\n",
       "zip_code         int64\n",
       "taxamount      float64\n",
       "home_value     float64\n",
       "yearbuilt        int64\n",
       "tax_rate       float64\n",
       "county          object\n",
       "dtype: object"
      ]
     },
     "execution_count": 46,
     "metadata": {},
     "output_type": "execute_result"
    }
   ],
   "source": [
    "train.dtypes"
   ]
  },
  {
   "cell_type": "code",
   "execution_count": 47,
   "metadata": {},
   "outputs": [
    {
     "name": "stdout",
     "output_type": "stream",
     "text": [
      "[ True  True  True False False]\n",
      "3 selected features\n",
      "['fullbathcnt', 'sqft', 'bathroomcnt']\n"
     ]
    }
   ],
   "source": [
    "# Setting up the regression test to pick top 3 features to influence home_value\n",
    "f_selector = SelectKBest(f_regression, k=3)\n",
    "\n",
    "# fit the selector to data\n",
    "f_selector.fit(X_train_scaled, y_train)\n",
    "\n",
    "# storing array of boolean values that show true if a feature was selected as top 2\n",
    "# false if not top 2\n",
    "f_support = f_selector.get_support()\n",
    "print(f_support) \n",
    "\n",
    "# Creating a list of the top 2 features using the array given above\n",
    "f_feature = X_train_scaled.loc[:,f_support].columns.tolist()\n",
    "\n",
    "print(str(len(f_feature)), 'selected features')\n",
    "print(f_feature)"
   ]
  },
  {
   "cell_type": "markdown",
   "metadata": {},
   "source": [
    "## Recursive Feature Elimination"
   ]
  },
  {
   "cell_type": "code",
   "execution_count": 48,
   "metadata": {},
   "outputs": [],
   "source": [
    "# Initialize the linear regression object\n",
    "lm = LinearRegression()"
   ]
  },
  {
   "cell_type": "code",
   "execution_count": 49,
   "metadata": {},
   "outputs": [],
   "source": [
    "# Initialize the RFE object, setting the hyperparameters to be our \n",
    "# linear regression object above and the number of features to be returned\n",
    "rfe = RFE(lm,3)"
   ]
  },
  {
   "cell_type": "code",
   "execution_count": 50,
   "metadata": {},
   "outputs": [],
   "source": [
    "# Fit the RFE to our data. It creates multiple models and finds the best\n",
    "# performing model. \n",
    "X_rfe = rfe.fit_transform(X_train_scaled,y_train)"
   ]
  },
  {
   "cell_type": "code",
   "execution_count": 51,
   "metadata": {},
   "outputs": [
    {
     "data": {
      "text/plain": [
       "LinearRegression(copy_X=True, fit_intercept=True, n_jobs=None, normalize=False)"
      ]
     },
     "execution_count": 51,
     "metadata": {},
     "output_type": "execute_result"
    }
   ],
   "source": [
    "# Fit X_rfe for modeling\n",
    "lm.fit(X_rfe, y_train)"
   ]
  },
  {
   "cell_type": "code",
   "execution_count": 52,
   "metadata": {},
   "outputs": [],
   "source": [
    "# If we want a list of the features that remain, we can use\n",
    "# .support_ similar to how we used .get_support() with SelectKBest.\n",
    "mask = rfe.support_"
   ]
  },
  {
   "cell_type": "code",
   "execution_count": 53,
   "metadata": {},
   "outputs": [],
   "source": [
    "rfe_features = X_train_scaled.loc[:,mask].columns.tolist()"
   ]
  },
  {
   "cell_type": "code",
   "execution_count": 54,
   "metadata": {},
   "outputs": [
    {
     "name": "stdout",
     "output_type": "stream",
     "text": [
      "3 selected features\n",
      "['sqft', 'bathroomcnt', 'bedroomcnt']\n"
     ]
    }
   ],
   "source": [
    "print(str(len(rfe_features)), 'selected features')\n",
    "print(rfe_features)"
   ]
  },
  {
   "cell_type": "markdown",
   "metadata": {},
   "source": [
    "### Takeaway: Both the SelectBest and RFE show sqft, bathroomcnt and bedroomcnt as the best features. Further regression models to be performed"
   ]
  },
  {
   "cell_type": "markdown",
   "metadata": {},
   "source": [
    "## Create a Baseline"
   ]
  },
  {
   "cell_type": "code",
   "execution_count": 55,
   "metadata": {},
   "outputs": [
    {
     "name": "stdout",
     "output_type": "stream",
     "text": [
      "home_value    398323.513516\n",
      "dtype: float64\n",
      "10432\n"
     ]
    }
   ],
   "source": [
    "print(np.mean(y_train))\n",
    "print(len(y_train))"
   ]
  },
  {
   "cell_type": "code",
   "execution_count": 56,
   "metadata": {},
   "outputs": [
    {
     "data": {
      "text/plain": [
       "416447.0"
      ]
     },
     "execution_count": 56,
     "metadata": {},
     "output_type": "execute_result"
    }
   ],
   "source": [
    "# Want to beat our baseline which is set at 416447\n",
    "baseline_rmse = mean_squared_error(y_train, np.full(10432, np.mean(y_train)))**(1/2)\n",
    "round(baseline_rmse,0)"
   ]
  },
  {
   "cell_type": "markdown",
   "metadata": {},
   "source": [
    "## Linear Regression"
   ]
  },
  {
   "cell_type": "code",
   "execution_count": 57,
   "metadata": {},
   "outputs": [
    {
     "data": {
      "text/plain": [
       "LinearRegression(copy_X=True, fit_intercept=True, n_jobs=None, normalize=True)"
      ]
     },
     "execution_count": 57,
     "metadata": {},
     "output_type": "execute_result"
    }
   ],
   "source": [
    "# Fit the model\n",
    "lm = LinearRegression(normalize=True)\n",
    "lm.fit(X_train_scaled, y_train)"
   ]
  },
  {
   "cell_type": "code",
   "execution_count": 58,
   "metadata": {},
   "outputs": [],
   "source": [
    "# predicting out training observations\n",
    "lm_pred = lm.predict(X_train_scaled)"
   ]
  },
  {
   "cell_type": "code",
   "execution_count": 59,
   "metadata": {},
   "outputs": [
    {
     "data": {
      "text/plain": [
       "356639.8984494539"
      ]
     },
     "execution_count": 59,
     "metadata": {},
     "output_type": "execute_result"
    }
   ],
   "source": [
    "# compute root mean squared error\n",
    "lm_rmse = mean_squared_error(y_train, lm_pred)**(1/2)\n",
    "lm_rmse"
   ]
  },
  {
   "cell_type": "markdown",
   "metadata": {},
   "source": [
    "## LassoLars"
   ]
  },
  {
   "cell_type": "code",
   "execution_count": 60,
   "metadata": {},
   "outputs": [
    {
     "data": {
      "text/plain": [
       "LassoLars(alpha=1, copy_X=True, eps=2.220446049250313e-16, fit_intercept=True,\n",
       "          fit_path=True, max_iter=500, normalize=True, positive=False,\n",
       "          precompute='auto', verbose=False)"
      ]
     },
     "execution_count": 60,
     "metadata": {},
     "output_type": "execute_result"
    }
   ],
   "source": [
    "# Fit the model\n",
    "lars = LassoLars(alpha=1)\n",
    "lars.fit(X_train_scaled, y_train)"
   ]
  },
  {
   "cell_type": "code",
   "execution_count": 61,
   "metadata": {},
   "outputs": [],
   "source": [
    "# predicting out training observations\n",
    "lars_pred = lars.predict(X_train_scaled)"
   ]
  },
  {
   "cell_type": "code",
   "execution_count": 62,
   "metadata": {},
   "outputs": [
    {
     "data": {
      "text/plain": [
       "356642.2071227365"
      ]
     },
     "execution_count": 62,
     "metadata": {},
     "output_type": "execute_result"
    }
   ],
   "source": [
    "# compute root mean squared error\n",
    "lars_rmse = mean_squared_error(y_train, lars_pred)**(1/2)\n",
    "lars_rmse"
   ]
  },
  {
   "cell_type": "markdown",
   "metadata": {},
   "source": [
    "## Polynomial Features"
   ]
  },
  {
   "cell_type": "code",
   "execution_count": 63,
   "metadata": {},
   "outputs": [],
   "source": [
    "# make the polynomial thing\n",
    "pf = PolynomialFeatures(degree=2)\n",
    "\n",
    "# fit and transform the thing\n",
    "# to get a new set of features..which are the original features sqauared\n",
    "X_train_squared = pf.fit_transform(X_train_scaled)"
   ]
  },
  {
   "cell_type": "code",
   "execution_count": 64,
   "metadata": {},
   "outputs": [
    {
     "data": {
      "text/plain": [
       "LinearRegression(copy_X=True, fit_intercept=True, n_jobs=None, normalize=False)"
      ]
     },
     "execution_count": 64,
     "metadata": {},
     "output_type": "execute_result"
    }
   ],
   "source": [
    "# Fit the model\n",
    "lm_squared = LinearRegression()\n",
    "lm_squared.fit(X_train_squared, y_train)"
   ]
  },
  {
   "cell_type": "code",
   "execution_count": 65,
   "metadata": {},
   "outputs": [],
   "source": [
    "# predicting out training observations\n",
    "lm_squared_pred = lm_squared.predict(X_train_squared)"
   ]
  },
  {
   "cell_type": "code",
   "execution_count": 66,
   "metadata": {},
   "outputs": [
    {
     "data": {
      "text/plain": [
       "349532.9240911646"
      ]
     },
     "execution_count": 66,
     "metadata": {},
     "output_type": "execute_result"
    }
   ],
   "source": [
    "# compute root mean squared error. Evaluate\n",
    "lm_squared_rmse = mean_squared_error(y_train, lm_squared_pred)**(1/2)\n",
    "lm_squared_rmse"
   ]
  },
  {
   "cell_type": "markdown",
   "metadata": {},
   "source": [
    "## Validate on top 3 models "
   ]
  },
  {
   "cell_type": "markdown",
   "metadata": {},
   "source": [
    "### Linear Regression"
   ]
  },
  {
   "cell_type": "code",
   "execution_count": 67,
   "metadata": {},
   "outputs": [],
   "source": [
    "# Prediction of our validation set\n",
    "lm_pred_v = lm.predict(X_validate_scaled)"
   ]
  },
  {
   "cell_type": "code",
   "execution_count": 68,
   "metadata": {},
   "outputs": [
    {
     "data": {
      "text/plain": [
       "389556.6259039436"
      ]
     },
     "execution_count": 68,
     "metadata": {},
     "output_type": "execute_result"
    }
   ],
   "source": [
    "# Computing the mean squared error\n",
    "lm_rmse_v = mean_squared_error(y_validate, lm_pred_v)**(1/2)\n",
    "lm_rmse_v"
   ]
  },
  {
   "cell_type": "markdown",
   "metadata": {},
   "source": [
    "### LasoLars"
   ]
  },
  {
   "cell_type": "code",
   "execution_count": 69,
   "metadata": {},
   "outputs": [],
   "source": [
    "# Prediction of our validation set\n",
    "lars_pred_v = lars.predict(X_validate_scaled)"
   ]
  },
  {
   "cell_type": "code",
   "execution_count": 70,
   "metadata": {},
   "outputs": [
    {
     "data": {
      "text/plain": [
       "389577.52927174466"
      ]
     },
     "execution_count": 70,
     "metadata": {},
     "output_type": "execute_result"
    }
   ],
   "source": [
    "# compute root mean squared error\n",
    "lars_rmse_v = mean_squared_error(y_validate, lars_pred_v)**(1/2)\n",
    "lars_rmse_v"
   ]
  },
  {
   "cell_type": "markdown",
   "metadata": {},
   "source": [
    "### Polynomial"
   ]
  },
  {
   "cell_type": "code",
   "execution_count": 71,
   "metadata": {},
   "outputs": [],
   "source": [
    "# New features squared\n",
    "X_validate_squared = pf.transform(X_validate_scaled)"
   ]
  },
  {
   "cell_type": "code",
   "execution_count": 72,
   "metadata": {},
   "outputs": [
    {
     "data": {
      "text/plain": [
       "array([[408998.8943306 ],\n",
       "       [349275.03939531],\n",
       "       [253916.97333078],\n",
       "       ...,\n",
       "       [325839.35774832],\n",
       "       [553930.0319706 ],\n",
       "       [265228.1627144 ]])"
      ]
     },
     "execution_count": 72,
     "metadata": {},
     "output_type": "execute_result"
    }
   ],
   "source": [
    "# Prediction of our Test set\n",
    "lm_squared_pred_v = lm_squared.predict(X_validate_squared)\n",
    "lm_squared_pred_v"
   ]
  },
  {
   "cell_type": "code",
   "execution_count": 73,
   "metadata": {},
   "outputs": [
    {
     "data": {
      "text/plain": [
       "381243.9875516905"
      ]
     },
     "execution_count": 73,
     "metadata": {},
     "output_type": "execute_result"
    }
   ],
   "source": [
    "lm_squared_rmse_v = mean_squared_error(y_validate, lm_squared_pred_v)**(1/2)\n",
    "lm_squared_rmse_v"
   ]
  },
  {
   "cell_type": "markdown",
   "metadata": {},
   "source": [
    "### Take away: The polynomial performed the best with lm_squared_rmse_v = 292242. Going to perform the test on on the poly model. "
   ]
  },
  {
   "cell_type": "markdown",
   "metadata": {},
   "source": [
    "## Test"
   ]
  },
  {
   "cell_type": "code",
   "execution_count": 75,
   "metadata": {},
   "outputs": [
    {
     "data": {
      "text/plain": [
       "315536.2427055943"
      ]
     },
     "execution_count": 75,
     "metadata": {},
     "output_type": "execute_result"
    }
   ],
   "source": [
    "# New features squared\n",
    "X_test_squared = pf.transform(X_test_scaled)\n",
    "\n",
    "# Prediction of our validation set\n",
    "lm_squared_pred_t = lm_squared.predict(X_test_squared)\n",
    "\n",
    "lm_squared_rmse_t= mean_squared_error(y_test, lm_squared_pred_t)**(1/2)\n",
    "lm_squared_rmse_t"
   ]
  },
  {
   "cell_type": "code",
   "execution_count": 77,
   "metadata": {},
   "outputs": [],
   "source": [
    "#lm_squared_rmse_t = mean_squared_error(y_test, lm_squared_pred_t)**(1/2)\n",
    "y_test['lm_prediction'] = lm_squared.predict(X_test_squared)\n",
    "y_test['baseline_pred'] = mean_squared_error(y_train, np.full(10432, np.mean(y_train)))**(1/2)"
   ]
  },
  {
   "cell_type": "code",
   "execution_count": 100,
   "metadata": {},
   "outputs": [
    {
     "data": {
      "text/plain": [
       "(0, 5000000.0)"
      ]
     },
     "execution_count": 100,
     "metadata": {},
     "output_type": "execute_result"
    },
    {
     "data": {
      "image/png": "[encoded data removed]",
      "text/plain": [
       "<Figure size 936x504 with 1 Axes>"
      ]
     },
     "metadata": {
      "needs_background": "light"
     },
     "output_type": "display_data"
    }
   ],
   "source": [
    "plt.scatter(y_test.home_value, y_test.lm_prediction, label='PolynomialModel Predictions', marker='o')\n",
    "plt.scatter(y_test.home_value, y_test.baseline_pred, label='Baseline Predicitions', marker='o')\n",
    "plt.plot([0, 12000000], [0, 12000000], label='Perfect predictions', ls=':', c='grey')\n",
    "plt.title('Polynomial Model Prediction')\n",
    "plt.xlim(0,.8e7)\n",
    "plt.ylim(0,.5e7)"
   ]
  },
  {
   "cell_type": "code",
   "execution_count": 82,
   "metadata": {
    "scrolled": true
   },
   "outputs": [
    {
     "data": {
      "text/plain": [
       "24.0"
      ]
     },
     "execution_count": 82,
     "metadata": {},
     "output_type": "execute_result"
    }
   ],
   "source": [
    "# Model performed 24% better than baseline\n",
    "round((baseline_rmse - lm_squared_rmse_t)/ baseline_rmse ,2) * 100"
   ]
  },
  {
   "cell_type": "code",
   "execution_count": null,
   "metadata": {},
   "outputs": [],
   "source": []
  },
  {
   "cell_type": "code",
   "execution_count": null,
   "metadata": {},
   "outputs": [],
   "source": []
  },
  {
   "cell_type": "code",
   "execution_count": null,
   "metadata": {},
   "outputs": [],
   "source": []
  },
  {
   "cell_type": "code",
   "execution_count": null,
   "metadata": {},
   "outputs": [],
   "source": []
  },
  {
   "cell_type": "code",
   "execution_count": null,
   "metadata": {},
   "outputs": [],
   "source": []
  },
  {
   "cell_type": "code",
   "execution_count": 83,
   "metadata": {},
   "outputs": [
    {
     "name": "stdout",
     "output_type": "stream",
     "text": [
      "remote: Enumerating objects: 6, done.\u001b[K\n",
      "remote: Counting objects: 100% (6/6), done.\u001b[K\n",
      "remote: Compressing objects: 100% (2/2), done.\u001b[K\n",
      "remote: Total 4 (delta 2), reused 4 (delta 2), pack-reused 0\u001b[K\n",
      "Unpacking objects: 100% (4/4), done.\n",
      "From https://github.com/The-BGs/zillow_regression_project\n",
      "   5db0135..afff6c6  master     -> origin/master\n",
      "Updating 5db0135..afff6c6\n",
      "Fast-forward\n",
      " model_b.py              |  62 \u001b[32m++++\u001b[m\n",
      " zillow_notebook_b.ipynb | 868 \u001b[32m++++++++++++++++++++++++++++++++++++\u001b[m\u001b[31m------------\u001b[m\n",
      " 2 files changed, 723 insertions(+), 207 deletions(-)\n",
      " create mode 100644 model_b.py\n"
     ]
    }
   ],
   "source": [
    "! git pull"
   ]
  },
  {
   "cell_type": "code",
   "execution_count": 101,
   "metadata": {},
   "outputs": [
    {
     "name": "stdout",
     "output_type": "stream",
     "text": [
      "On branch master\r\n",
      "Your branch is up to date with 'origin/master'.\r\n",
      "\r\n",
      "Changes not staged for commit:\r\n",
      "  (use \"git add <file>...\" to update what will be committed)\r\n",
      "  (use \"git restore <file>...\" to discard changes in working directory)\r\n",
      "\t\u001b[31mmodified:   acquire_prep_g.ipynb\u001b[m\r\n",
      "\t\u001b[31mmodified:   explore_g.ipynb\u001b[m\r\n",
      "\t\u001b[31mmodified:   model_g.ipynb\u001b[m\r\n",
      "\t\u001b[31mmodified:   prepare.py\u001b[m\r\n",
      "\t\u001b[31mmodified:   wrangle.py\u001b[m\r\n",
      "\r\n",
      "no changes added to commit (use \"git add\" and/or \"git commit -a\")\r\n"
     ]
    }
   ],
   "source": [
    "! git status"
   ]
  },
  {
   "cell_type": "code",
   "execution_count": 102,
   "metadata": {},
   "outputs": [],
   "source": [
    "#!git add -A"
   ]
  },
  {
   "cell_type": "code",
   "execution_count": 103,
   "metadata": {},
   "outputs": [
    {
     "name": "stdout",
     "output_type": "stream",
     "text": [
      "[master d9d7e9c] Adding work updates\r\n",
      " 5 files changed, 4413 insertions(+), 2606 deletions(-)\r\n",
      " rewrite explore_g.ipynb (84%)\r\n",
      " rewrite model_g.ipynb (61%)\r\n"
     ]
    }
   ],
   "source": [
    "#!git commit -m \"Adding work updates\""
   ]
  },
  {
   "cell_type": "code",
   "execution_count": 104,
   "metadata": {},
   "outputs": [
    {
     "name": "stdout",
     "output_type": "stream",
     "text": [
      "Enumerating objects: 13, done.\n",
      "Counting objects: 100% (13/13), done.\n",
      "Delta compression using up to 8 threads\n",
      "Compressing objects: 100% (7/7), done.\n",
      "Writing objects: 100% (7/7), 801.37 KiB | 12.72 MiB/s, done.\n",
      "Total 7 (delta 4), reused 0 (delta 0)\n",
      "remote: Resolving deltas: 100% (4/4), completed with 4 local objects.\u001b[K\n",
      "To https://github.com/The-BGs/zillow_regression_project.git\n",
      "   afff6c6..d9d7e9c  master -> master\n"
     ]
    }
   ],
   "source": [
    "#!git push"
   ]
  },
  {
   "cell_type": "code",
   "execution_count": null,
   "metadata": {},
   "outputs": [],
   "source": []
  }
 ],
 "metadata": {
  "kernelspec": {
   "display_name": "Python 3",
   "language": "python",
   "name": "python3"
  },
  "language_info": {
   "codemirror_mode": {
    "name": "ipython",
    "version": 3
   },
   "file_extension": ".py",
   "mimetype": "text/x-python",
   "name": "python",
   "nbconvert_exporter": "python",
   "pygments_lexer": "ipython3",
   "version": "3.7.6"
  }
 },
 "nbformat": 4,
 "nbformat_minor": 4
}
