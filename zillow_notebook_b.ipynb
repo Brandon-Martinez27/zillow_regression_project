{
 "cells": [
  {
   "cell_type": "code",
   "execution_count": 47,
   "metadata": {},
   "outputs": [],
   "source": [
    "# standard imports\n",
    "import pandas as pd\n",
    "import numpy as np\n",
    "import math\n",
    "\n",
    "# prepare + acquire\n",
    "from acquire_b import get_zillow_data\n",
    "import prepare_b\n",
    "from sklearn.model_selection import train_test_split\n",
    "from sklearn.preprocessing import MinMaxScaler\n",
    "\n",
    "# exploration / visualization\n",
    "import seaborn as sns\n",
    "import matplotlib.pyplot as plt\n",
    "\n",
    "# hypotheses testing\n",
    "import scipy.stats as stats"
   ]
  },
  {
   "cell_type": "markdown",
   "metadata": {},
   "source": [
    "# Acquire"
   ]
  },
  {
   "cell_type": "code",
   "execution_count": 2,
   "metadata": {},
   "outputs": [
    {
     "data": {
      "text/html": [
       "<div>\n",
       "<style scoped>\n",
       "    .dataframe tbody tr th:only-of-type {\n",
       "        vertical-align: middle;\n",
       "    }\n",
       "\n",
       "    .dataframe tbody tr th {\n",
       "        vertical-align: top;\n",
       "    }\n",
       "\n",
       "    .dataframe thead th {\n",
       "        text-align: right;\n",
       "    }\n",
       "</style>\n",
       "<table border=\"1\" class=\"dataframe\">\n",
       "  <thead>\n",
       "    <tr style=\"text-align: right;\">\n",
       "      <th></th>\n",
       "      <th>id</th>\n",
       "      <th>parcelid</th>\n",
       "      <th>airconditioningtypeid</th>\n",
       "      <th>architecturalstyletypeid</th>\n",
       "      <th>basementsqft</th>\n",
       "      <th>bathroomcnt</th>\n",
       "      <th>bedroomcnt</th>\n",
       "      <th>buildingclasstypeid</th>\n",
       "      <th>buildingqualitytypeid</th>\n",
       "      <th>calculatedbathnbr</th>\n",
       "      <th>...</th>\n",
       "      <th>taxamount</th>\n",
       "      <th>taxdelinquencyflag</th>\n",
       "      <th>taxdelinquencyyear</th>\n",
       "      <th>censustractandblock</th>\n",
       "      <th>id.1</th>\n",
       "      <th>parcelid.1</th>\n",
       "      <th>logerror</th>\n",
       "      <th>transactiondate</th>\n",
       "      <th>propertylandusetypeid.1</th>\n",
       "      <th>propertylandusedesc</th>\n",
       "    </tr>\n",
       "  </thead>\n",
       "  <tbody>\n",
       "    <tr>\n",
       "      <th>0</th>\n",
       "      <td>1248</td>\n",
       "      <td>17305333</td>\n",
       "      <td>NaN</td>\n",
       "      <td>NaN</td>\n",
       "      <td>NaN</td>\n",
       "      <td>0.0</td>\n",
       "      <td>0.0</td>\n",
       "      <td>NaN</td>\n",
       "      <td>NaN</td>\n",
       "      <td>NaN</td>\n",
       "      <td>...</td>\n",
       "      <td>212.46</td>\n",
       "      <td>NaN</td>\n",
       "      <td>NaN</td>\n",
       "      <td>6.111002e+13</td>\n",
       "      <td>1248</td>\n",
       "      <td>11289917</td>\n",
       "      <td>-0.362001</td>\n",
       "      <td>2017-06-23</td>\n",
       "      <td>263</td>\n",
       "      <td>Mobile Home</td>\n",
       "    </tr>\n",
       "    <tr>\n",
       "      <th>1</th>\n",
       "      <td>1772</td>\n",
       "      <td>10838338</td>\n",
       "      <td>NaN</td>\n",
       "      <td>NaN</td>\n",
       "      <td>NaN</td>\n",
       "      <td>2.0</td>\n",
       "      <td>4.0</td>\n",
       "      <td>NaN</td>\n",
       "      <td>6.0</td>\n",
       "      <td>2.0</td>\n",
       "      <td>...</td>\n",
       "      <td>6089.82</td>\n",
       "      <td>NaN</td>\n",
       "      <td>NaN</td>\n",
       "      <td>6.037128e+13</td>\n",
       "      <td>1772</td>\n",
       "      <td>11705026</td>\n",
       "      <td>-0.146056</td>\n",
       "      <td>2017-06-30</td>\n",
       "      <td>261</td>\n",
       "      <td>Single Family Residential</td>\n",
       "    </tr>\n",
       "    <tr>\n",
       "      <th>2</th>\n",
       "      <td>2028</td>\n",
       "      <td>10901531</td>\n",
       "      <td>1.0</td>\n",
       "      <td>NaN</td>\n",
       "      <td>NaN</td>\n",
       "      <td>3.0</td>\n",
       "      <td>3.0</td>\n",
       "      <td>NaN</td>\n",
       "      <td>8.0</td>\n",
       "      <td>3.0</td>\n",
       "      <td>...</td>\n",
       "      <td>6679.55</td>\n",
       "      <td>NaN</td>\n",
       "      <td>NaN</td>\n",
       "      <td>6.037125e+13</td>\n",
       "      <td>2028</td>\n",
       "      <td>14269464</td>\n",
       "      <td>0.021085</td>\n",
       "      <td>2017-06-01</td>\n",
       "      <td>261</td>\n",
       "      <td>Single Family Residential</td>\n",
       "    </tr>\n",
       "    <tr>\n",
       "      <th>3</th>\n",
       "      <td>3273</td>\n",
       "      <td>11262089</td>\n",
       "      <td>1.0</td>\n",
       "      <td>NaN</td>\n",
       "      <td>NaN</td>\n",
       "      <td>2.0</td>\n",
       "      <td>3.0</td>\n",
       "      <td>NaN</td>\n",
       "      <td>8.0</td>\n",
       "      <td>2.0</td>\n",
       "      <td>...</td>\n",
       "      <td>3876.31</td>\n",
       "      <td>NaN</td>\n",
       "      <td>NaN</td>\n",
       "      <td>6.037901e+13</td>\n",
       "      <td>3273</td>\n",
       "      <td>11389003</td>\n",
       "      <td>-0.325393</td>\n",
       "      <td>2017-06-01</td>\n",
       "      <td>261</td>\n",
       "      <td>Single Family Residential</td>\n",
       "    </tr>\n",
       "    <tr>\n",
       "      <th>4</th>\n",
       "      <td>3429</td>\n",
       "      <td>11323134</td>\n",
       "      <td>NaN</td>\n",
       "      <td>NaN</td>\n",
       "      <td>NaN</td>\n",
       "      <td>2.0</td>\n",
       "      <td>2.0</td>\n",
       "      <td>NaN</td>\n",
       "      <td>6.0</td>\n",
       "      <td>2.0</td>\n",
       "      <td>...</td>\n",
       "      <td>4206.15</td>\n",
       "      <td>NaN</td>\n",
       "      <td>NaN</td>\n",
       "      <td>6.037901e+13</td>\n",
       "      <td>3429</td>\n",
       "      <td>11967869</td>\n",
       "      <td>-0.005566</td>\n",
       "      <td>2017-06-29</td>\n",
       "      <td>261</td>\n",
       "      <td>Single Family Residential</td>\n",
       "    </tr>\n",
       "  </tbody>\n",
       "</table>\n",
       "<p>5 rows × 65 columns</p>\n",
       "</div>"
      ],
      "text/plain": [
       "     id  parcelid  airconditioningtypeid  architecturalstyletypeid  \\\n",
       "0  1248  17305333                    NaN                       NaN   \n",
       "1  1772  10838338                    NaN                       NaN   \n",
       "2  2028  10901531                    1.0                       NaN   \n",
       "3  3273  11262089                    1.0                       NaN   \n",
       "4  3429  11323134                    NaN                       NaN   \n",
       "\n",
       "   basementsqft  bathroomcnt  bedroomcnt  buildingclasstypeid  \\\n",
       "0           NaN          0.0         0.0                  NaN   \n",
       "1           NaN          2.0         4.0                  NaN   \n",
       "2           NaN          3.0         3.0                  NaN   \n",
       "3           NaN          2.0         3.0                  NaN   \n",
       "4           NaN          2.0         2.0                  NaN   \n",
       "\n",
       "   buildingqualitytypeid  calculatedbathnbr  ...  taxamount  \\\n",
       "0                    NaN                NaN  ...     212.46   \n",
       "1                    6.0                2.0  ...    6089.82   \n",
       "2                    8.0                3.0  ...    6679.55   \n",
       "3                    8.0                2.0  ...    3876.31   \n",
       "4                    6.0                2.0  ...    4206.15   \n",
       "\n",
       "   taxdelinquencyflag  taxdelinquencyyear  censustractandblock  id.1  \\\n",
       "0                 NaN                 NaN         6.111002e+13  1248   \n",
       "1                 NaN                 NaN         6.037128e+13  1772   \n",
       "2                 NaN                 NaN         6.037125e+13  2028   \n",
       "3                 NaN                 NaN         6.037901e+13  3273   \n",
       "4                 NaN                 NaN         6.037901e+13  3429   \n",
       "\n",
       "   parcelid.1  logerror  transactiondate  propertylandusetypeid.1  \\\n",
       "0    11289917 -0.362001       2017-06-23                      263   \n",
       "1    11705026 -0.146056       2017-06-30                      261   \n",
       "2    14269464  0.021085       2017-06-01                      261   \n",
       "3    11389003 -0.325393       2017-06-01                      261   \n",
       "4    11967869 -0.005566       2017-06-29                      261   \n",
       "\n",
       "         propertylandusedesc  \n",
       "0                Mobile Home  \n",
       "1  Single Family Residential  \n",
       "2  Single Family Residential  \n",
       "3  Single Family Residential  \n",
       "4  Single Family Residential  \n",
       "\n",
       "[5 rows x 65 columns]"
      ]
     },
     "execution_count": 2,
     "metadata": {},
     "output_type": "execute_result"
    }
   ],
   "source": [
    "# use the function to grab the data from SQL\n",
    "zillow = get_zillow_data()\n",
    "zillow.head()"
   ]
  },
  {
   "cell_type": "code",
   "execution_count": 3,
   "metadata": {},
   "outputs": [
    {
     "name": "stdout",
     "output_type": "stream",
     "text": [
      "<class 'pandas.core.frame.DataFrame'>\n",
      "Int64Index: 19667 entries, 0 to 19666\n",
      "Data columns (total 65 columns):\n",
      " #   Column                        Non-Null Count  Dtype  \n",
      "---  ------                        --------------  -----  \n",
      " 0   id                            19667 non-null  int64  \n",
      " 1   parcelid                      19667 non-null  int64  \n",
      " 2   airconditioningtypeid         5759 non-null   float64\n",
      " 3   architecturalstyletypeid      28 non-null     float64\n",
      " 4   basementsqft                  5 non-null      float64\n",
      " 5   bathroomcnt                   19667 non-null  float64\n",
      " 6   bedroomcnt                    19667 non-null  float64\n",
      " 7   buildingclasstypeid           0 non-null      float64\n",
      " 8   buildingqualitytypeid         14715 non-null  float64\n",
      " 9   calculatedbathnbr             19292 non-null  float64\n",
      " 10  decktypeid                    85 non-null     float64\n",
      " 11  finishedfloor1squarefeet      961 non-null    float64\n",
      " 12  calculatedfinishedsquarefeet  19505 non-null  float64\n",
      " 13  finishedsquarefeet12          19434 non-null  float64\n",
      " 14  finishedsquarefeet13          33 non-null     float64\n",
      " 15  finishedsquarefeet15          1 non-null      float64\n",
      " 16  finishedsquarefeet50          961 non-null    float64\n",
      " 17  finishedsquarefeet6           37 non-null     float64\n",
      " 18  fips                          19667 non-null  float64\n",
      " 19  fireplacecnt                  1537 non-null   float64\n",
      " 20  fullbathcnt                   19292 non-null  float64\n",
      " 21  garagecarcnt                  4365 non-null   float64\n",
      " 22  garagetotalsqft               4365 non-null   float64\n",
      " 23  hashottuborspa                249 non-null    float64\n",
      " 24  heatingorsystemtypeid         14797 non-null  float64\n",
      " 25  latitude                      19667 non-null  float64\n",
      " 26  longitude                     19667 non-null  float64\n",
      " 27  lotsizesquarefeet             18377 non-null  float64\n",
      " 28  poolcnt                       3894 non-null   float64\n",
      " 29  poolsizesum                   141 non-null    float64\n",
      " 30  pooltypeid10                  72 non-null     float64\n",
      " 31  pooltypeid2                   177 non-null    float64\n",
      " 32  pooltypeid7                   3713 non-null   float64\n",
      " 33  propertycountylandusecode     19666 non-null  object \n",
      " 34  propertylandusetypeid         19667 non-null  float64\n",
      " 35  propertyzoningdesc            14829 non-null  object \n",
      " 36  rawcensustractandblock        19667 non-null  float64\n",
      " 37  regionidcity                  19346 non-null  float64\n",
      " 38  regionidcounty                19667 non-null  float64\n",
      " 39  regionidneighborhood          8404 non-null   float64\n",
      " 40  regionidzip                   19628 non-null  float64\n",
      " 41  roomcnt                       19667 non-null  float64\n",
      " 42  storytypeid                   5 non-null      float64\n",
      " 43  threequarterbathnbr           1557 non-null   float64\n",
      " 44  typeconstructiontypeid        29 non-null     float64\n",
      " 45  unitcnt                       14782 non-null  float64\n",
      " 46  yardbuildingsqft17            390 non-null    float64\n",
      " 47  yardbuildingsqft26            15 non-null     float64\n",
      " 48  yearbuilt                     19501 non-null  float64\n",
      " 49  numberofstories               3232 non-null   float64\n",
      " 50  fireplaceflag                 21 non-null     float64\n",
      " 51  structuretaxvaluedollarcnt    19467 non-null  float64\n",
      " 52  taxvaluedollarcnt             19517 non-null  float64\n",
      " 53  assessmentyear                19667 non-null  float64\n",
      " 54  landtaxvaluedollarcnt         19406 non-null  float64\n",
      " 55  taxamount                     19587 non-null  float64\n",
      " 56  taxdelinquencyflag            365 non-null    object \n",
      " 57  taxdelinquencyyear            365 non-null    float64\n",
      " 58  censustractandblock           19410 non-null  float64\n",
      " 59  id.1                          19667 non-null  int64  \n",
      " 60  parcelid.1                    19667 non-null  int64  \n",
      " 61  logerror                      19667 non-null  float64\n",
      " 62  transactiondate               19667 non-null  object \n",
      " 63  propertylandusetypeid.1       19667 non-null  int64  \n",
      " 64  propertylandusedesc           19667 non-null  object \n",
      "dtypes: float64(55), int64(5), object(5)\n",
      "memory usage: 9.9+ MB\n"
     ]
    }
   ],
   "source": [
    "# summarize\n",
    "zillow.info()"
   ]
  },
  {
   "cell_type": "markdown",
   "metadata": {},
   "source": [
    "# Prepare"
   ]
  },
  {
   "cell_type": "code",
   "execution_count": 4,
   "metadata": {},
   "outputs": [],
   "source": [
    "#COME BACK AFTER MVP\n",
    "\n",
    "# filter all of the relevant data with a mask\n",
    "\n",
    "#column_filter = (zillow.isnull().sum() < 18000)\n",
    "#columns_to_keep = zillow.columns[column_filter]\n",
    "#df = zillow[columns_to_keep]\n",
    "#zillow[columns_to_keep].isnull()"
   ]
  },
  {
   "cell_type": "code",
   "execution_count": 5,
   "metadata": {},
   "outputs": [
    {
     "name": "stdout",
     "output_type": "stream",
     "text": [
      "<class 'pandas.core.frame.DataFrame'>\n",
      "Int64Index: 19299 entries, 0 to 19666\n",
      "Data columns (total 9 columns):\n",
      " #   Column             Non-Null Count  Dtype  \n",
      "---  ------             --------------  -----  \n",
      " 0   bathroomcnt        19299 non-null  float64\n",
      " 1   bedroomcnt         19299 non-null  int64  \n",
      " 2   zipcode            19299 non-null  int64  \n",
      " 3   taxamount          19299 non-null  float64\n",
      " 4   taxvaluedollarcnt  19299 non-null  float64\n",
      " 5   yearbuilt          19299 non-null  int64  \n",
      " 6   sqft               19299 non-null  int64  \n",
      " 7   county             19299 non-null  object \n",
      " 8   tax_rate           19299 non-null  float64\n",
      "dtypes: float64(4), int64(4), object(1)\n",
      "memory usage: 1.5+ MB\n"
     ]
    }
   ],
   "source": [
    "# create a dataframe from prepare file\n",
    "df = prepare_b.prep_zillow()\n",
    "df.info()"
   ]
  },
  {
   "cell_type": "code",
   "execution_count": 6,
   "metadata": {},
   "outputs": [
    {
     "data": {
      "text/html": [
       "<div>\n",
       "<style scoped>\n",
       "    .dataframe tbody tr th:only-of-type {\n",
       "        vertical-align: middle;\n",
       "    }\n",
       "\n",
       "    .dataframe tbody tr th {\n",
       "        vertical-align: top;\n",
       "    }\n",
       "\n",
       "    .dataframe thead th {\n",
       "        text-align: right;\n",
       "    }\n",
       "</style>\n",
       "<table border=\"1\" class=\"dataframe\">\n",
       "  <thead>\n",
       "    <tr style=\"text-align: right;\">\n",
       "      <th></th>\n",
       "      <th>count</th>\n",
       "      <th>mean</th>\n",
       "      <th>std</th>\n",
       "      <th>min</th>\n",
       "      <th>25%</th>\n",
       "      <th>50%</th>\n",
       "      <th>75%</th>\n",
       "      <th>max</th>\n",
       "    </tr>\n",
       "  </thead>\n",
       "  <tbody>\n",
       "    <tr>\n",
       "      <th>bathroomcnt</th>\n",
       "      <td>19299.0</td>\n",
       "      <td>2.210684</td>\n",
       "      <td>0.988779</td>\n",
       "      <td>0.00</td>\n",
       "      <td>2.000</td>\n",
       "      <td>2.00</td>\n",
       "      <td>3.00</td>\n",
       "      <td>20.00</td>\n",
       "    </tr>\n",
       "    <tr>\n",
       "      <th>bedroomcnt</th>\n",
       "      <td>19299.0</td>\n",
       "      <td>3.072646</td>\n",
       "      <td>1.009545</td>\n",
       "      <td>0.00</td>\n",
       "      <td>2.000</td>\n",
       "      <td>3.00</td>\n",
       "      <td>4.00</td>\n",
       "      <td>25.00</td>\n",
       "    </tr>\n",
       "    <tr>\n",
       "      <th>zipcode</th>\n",
       "      <td>19299.0</td>\n",
       "      <td>96495.213742</td>\n",
       "      <td>3800.436448</td>\n",
       "      <td>95982.00</td>\n",
       "      <td>96150.000</td>\n",
       "      <td>96339.00</td>\n",
       "      <td>96533.00</td>\n",
       "      <td>399675.00</td>\n",
       "    </tr>\n",
       "    <tr>\n",
       "      <th>taxamount</th>\n",
       "      <td>19299.0</td>\n",
       "      <td>5444.767672</td>\n",
       "      <td>6941.795704</td>\n",
       "      <td>37.65</td>\n",
       "      <td>2476.985</td>\n",
       "      <td>3963.20</td>\n",
       "      <td>6166.21</td>\n",
       "      <td>228999.21</td>\n",
       "    </tr>\n",
       "    <tr>\n",
       "      <th>taxvaluedollarcnt</th>\n",
       "      <td>19299.0</td>\n",
       "      <td>444348.848075</td>\n",
       "      <td>598080.920018</td>\n",
       "      <td>3257.00</td>\n",
       "      <td>184092.000</td>\n",
       "      <td>313848.00</td>\n",
       "      <td>510435.00</td>\n",
       "      <td>19129816.00</td>\n",
       "    </tr>\n",
       "    <tr>\n",
       "      <th>yearbuilt</th>\n",
       "      <td>19299.0</td>\n",
       "      <td>1962.409296</td>\n",
       "      <td>22.921862</td>\n",
       "      <td>1862.00</td>\n",
       "      <td>1949.000</td>\n",
       "      <td>1960.00</td>\n",
       "      <td>1979.00</td>\n",
       "      <td>2015.00</td>\n",
       "    </tr>\n",
       "    <tr>\n",
       "      <th>sqft</th>\n",
       "      <td>19299.0</td>\n",
       "      <td>1743.394062</td>\n",
       "      <td>938.396722</td>\n",
       "      <td>60.00</td>\n",
       "      <td>1180.000</td>\n",
       "      <td>1520.00</td>\n",
       "      <td>2038.00</td>\n",
       "      <td>26345.00</td>\n",
       "    </tr>\n",
       "    <tr>\n",
       "      <th>tax_rate</th>\n",
       "      <td>19299.0</td>\n",
       "      <td>1.321326</td>\n",
       "      <td>0.355193</td>\n",
       "      <td>0.00</td>\n",
       "      <td>1.190</td>\n",
       "      <td>1.24</td>\n",
       "      <td>1.35</td>\n",
       "      <td>15.51</td>\n",
       "    </tr>\n",
       "  </tbody>\n",
       "</table>\n",
       "</div>"
      ],
      "text/plain": [
       "                     count           mean            std       min  \\\n",
       "bathroomcnt        19299.0       2.210684       0.988779      0.00   \n",
       "bedroomcnt         19299.0       3.072646       1.009545      0.00   \n",
       "zipcode            19299.0   96495.213742    3800.436448  95982.00   \n",
       "taxamount          19299.0    5444.767672    6941.795704     37.65   \n",
       "taxvaluedollarcnt  19299.0  444348.848075  598080.920018   3257.00   \n",
       "yearbuilt          19299.0    1962.409296      22.921862   1862.00   \n",
       "sqft               19299.0    1743.394062     938.396722     60.00   \n",
       "tax_rate           19299.0       1.321326       0.355193      0.00   \n",
       "\n",
       "                          25%        50%        75%          max  \n",
       "bathroomcnt             2.000       2.00       3.00        20.00  \n",
       "bedroomcnt              2.000       3.00       4.00        25.00  \n",
       "zipcode             96150.000   96339.00   96533.00    399675.00  \n",
       "taxamount            2476.985    3963.20    6166.21    228999.21  \n",
       "taxvaluedollarcnt  184092.000  313848.00  510435.00  19129816.00  \n",
       "yearbuilt            1949.000    1960.00    1979.00      2015.00  \n",
       "sqft                 1180.000    1520.00    2038.00     26345.00  \n",
       "tax_rate                1.190       1.24       1.35        15.51  "
      ]
     },
     "execution_count": 6,
     "metadata": {},
     "output_type": "execute_result"
    }
   ],
   "source": [
    "df.describe().T"
   ]
  },
  {
   "cell_type": "code",
   "execution_count": 7,
   "metadata": {},
   "outputs": [
    {
     "data": {
      "text/plain": [
       "6954    399675\n",
       "6955    399675\n",
       "6956    399675\n",
       "1408     97344\n",
       "1409     97344\n",
       "Name: zipcode, dtype: int64"
      ]
     },
     "execution_count": 7,
     "metadata": {},
     "output_type": "execute_result"
    }
   ],
   "source": [
    "df.zipcode.nlargest(5)"
   ]
  },
  {
   "cell_type": "code",
   "execution_count": 8,
   "metadata": {},
   "outputs": [
    {
     "data": {
      "text/plain": [
       "0"
      ]
     },
     "execution_count": 8,
     "metadata": {},
     "output_type": "execute_result"
    }
   ],
   "source": [
    "(df.zipcode == 99675).sum()"
   ]
  },
  {
   "cell_type": "code",
   "execution_count": 11,
   "metadata": {},
   "outputs": [
    {
     "data": {
      "text/plain": [
       "((10807, 9), (4632, 9), (3860, 9))"
      ]
     },
     "execution_count": 11,
     "metadata": {},
     "output_type": "execute_result"
    }
   ],
   "source": [
    "# Use split function to create train, validate, and test dfs\n",
    "train, validate, test = prepare_b.zillow_split(df)\n",
    "\n",
    "train.shape, validate.shape, test.shape"
   ]
  },
  {
   "cell_type": "code",
   "execution_count": 13,
   "metadata": {},
   "outputs": [],
   "source": [
    "# Split into X and y data frames\n",
    "X_train = train.drop(columns=['taxvaluedollarcnt'])\n",
    "X_validate = validate.drop(columns=['taxvaluedollarcnt'])\n",
    "X_test = test.drop(columns=['taxvaluedollarcnt'])\n",
    "\n",
    "y_train = train[['taxvaluedollarcnt']]\n",
    "y_validate = validate[['taxvaluedollarcnt']]\n",
    "y_test = test[['taxvaluedollarcnt']]"
   ]
  },
  {
   "cell_type": "code",
   "execution_count": 17,
   "metadata": {},
   "outputs": [],
   "source": [
    "# Create scaler object\n",
    "from sklearn.preprocessing import MinMaxScaler\n",
    "\n",
    "scaler = MinMaxScaler(copy=True).fit(X_train.drop(columns='county'))\n",
    "\n",
    "X_train_scaled = scaler.transform(X_train.drop(columns='county'))\n",
    "X_validate_scaled = scaler.transform(X_validate.drop(columns='county'))\n",
    "X_test_scaled = scaler.transform(X_test.drop(columns='county'))"
   ]
  },
  {
   "cell_type": "code",
   "execution_count": 15,
   "metadata": {
    "scrolled": true
   },
   "outputs": [
    {
     "data": {
      "text/html": [
       "<div>\n",
       "<style scoped>\n",
       "    .dataframe tbody tr th:only-of-type {\n",
       "        vertical-align: middle;\n",
       "    }\n",
       "\n",
       "    .dataframe tbody tr th {\n",
       "        vertical-align: top;\n",
       "    }\n",
       "\n",
       "    .dataframe thead th {\n",
       "        text-align: right;\n",
       "    }\n",
       "</style>\n",
       "<table border=\"1\" class=\"dataframe\">\n",
       "  <thead>\n",
       "    <tr style=\"text-align: right;\">\n",
       "      <th></th>\n",
       "      <th>bathroomcnt</th>\n",
       "      <th>bedroomcnt</th>\n",
       "      <th>zipcode</th>\n",
       "      <th>taxamount</th>\n",
       "      <th>taxvaluedollarcnt</th>\n",
       "      <th>yearbuilt</th>\n",
       "      <th>sqft</th>\n",
       "      <th>county</th>\n",
       "      <th>tax_rate</th>\n",
       "    </tr>\n",
       "  </thead>\n",
       "  <tbody>\n",
       "    <tr>\n",
       "      <th>2459</th>\n",
       "      <td>2.0</td>\n",
       "      <td>2</td>\n",
       "      <td>96005</td>\n",
       "      <td>8378.08</td>\n",
       "      <td>693537.0</td>\n",
       "      <td>1987</td>\n",
       "      <td>1442</td>\n",
       "      <td>Los Angeles County</td>\n",
       "      <td>1.21</td>\n",
       "    </tr>\n",
       "    <tr>\n",
       "      <th>7559</th>\n",
       "      <td>2.0</td>\n",
       "      <td>4</td>\n",
       "      <td>96186</td>\n",
       "      <td>3031.24</td>\n",
       "      <td>260222.0</td>\n",
       "      <td>1956</td>\n",
       "      <td>1355</td>\n",
       "      <td>Orange County</td>\n",
       "      <td>1.16</td>\n",
       "    </tr>\n",
       "    <tr>\n",
       "      <th>17309</th>\n",
       "      <td>4.0</td>\n",
       "      <td>3</td>\n",
       "      <td>96293</td>\n",
       "      <td>11502.36</td>\n",
       "      <td>993231.0</td>\n",
       "      <td>1979</td>\n",
       "      <td>3328</td>\n",
       "      <td>Los Angeles County</td>\n",
       "      <td>1.16</td>\n",
       "    </tr>\n",
       "    <tr>\n",
       "      <th>12096</th>\n",
       "      <td>1.0</td>\n",
       "      <td>3</td>\n",
       "      <td>97113</td>\n",
       "      <td>2580.04</td>\n",
       "      <td>239884.0</td>\n",
       "      <td>1930</td>\n",
       "      <td>1412</td>\n",
       "      <td>Ventura County</td>\n",
       "      <td>1.08</td>\n",
       "    </tr>\n",
       "    <tr>\n",
       "      <th>19197</th>\n",
       "      <td>2.0</td>\n",
       "      <td>4</td>\n",
       "      <td>96122</td>\n",
       "      <td>1643.98</td>\n",
       "      <td>109506.0</td>\n",
       "      <td>1973</td>\n",
       "      <td>2100</td>\n",
       "      <td>Los Angeles County</td>\n",
       "      <td>1.50</td>\n",
       "    </tr>\n",
       "  </tbody>\n",
       "</table>\n",
       "</div>"
      ],
      "text/plain": [
       "       bathroomcnt  bedroomcnt  zipcode  taxamount  taxvaluedollarcnt  \\\n",
       "2459           2.0           2    96005    8378.08           693537.0   \n",
       "7559           2.0           4    96186    3031.24           260222.0   \n",
       "17309          4.0           3    96293   11502.36           993231.0   \n",
       "12096          1.0           3    97113    2580.04           239884.0   \n",
       "19197          2.0           4    96122    1643.98           109506.0   \n",
       "\n",
       "       yearbuilt  sqft              county  tax_rate  \n",
       "2459        1987  1442  Los Angeles County      1.21  \n",
       "7559        1956  1355       Orange County      1.16  \n",
       "17309       1979  3328  Los Angeles County      1.16  \n",
       "12096       1930  1412      Ventura County      1.08  \n",
       "19197       1973  2100  Los Angeles County      1.50  "
      ]
     },
     "execution_count": 15,
     "metadata": {},
     "output_type": "execute_result"
    }
   ],
   "source": [
    "#train, validate, test = prepare_b.add_scaled_columns(train, validate, test, scaler, \n",
    "                                          # train.drop(columns=['taxvaluedollarcnt', 'county', 'zipcode']).columns)\n",
    "train.head()"
   ]
  },
  {
   "cell_type": "code",
   "execution_count": null,
   "metadata": {},
   "outputs": [],
   "source": [
    "# Use function to add scaled columns to dataframe\n",
    "train, validate, test = prepare_b.add_scaled_columns(train, validate, test, scaler, \n",
    "                                           train.drop(columns=['taxvaluedollarcnt', 'county', 'zipcode']).columns)\n",
    "\n",
    "train.info()"
   ]
  },
  {
   "cell_type": "markdown",
   "metadata": {},
   "source": [
    "# Exploration"
   ]
  },
  {
   "cell_type": "code",
   "execution_count": 18,
   "metadata": {},
   "outputs": [],
   "source": [
    "# plt rc sets defaults for matplotlib figures\n",
    "plt.rc(\"font\", size=13)\n",
    "plt.rc(\"figure\", figsize= (13,7))"
   ]
  },
  {
   "cell_type": "code",
   "execution_count": 19,
   "metadata": {},
   "outputs": [
    {
     "data": {
      "text/html": [
       "<div>\n",
       "<style scoped>\n",
       "    .dataframe tbody tr th:only-of-type {\n",
       "        vertical-align: middle;\n",
       "    }\n",
       "\n",
       "    .dataframe tbody tr th {\n",
       "        vertical-align: top;\n",
       "    }\n",
       "\n",
       "    .dataframe thead th {\n",
       "        text-align: right;\n",
       "    }\n",
       "</style>\n",
       "<table border=\"1\" class=\"dataframe\">\n",
       "  <thead>\n",
       "    <tr style=\"text-align: right;\">\n",
       "      <th></th>\n",
       "      <th>count</th>\n",
       "      <th>mean</th>\n",
       "      <th>std</th>\n",
       "      <th>min</th>\n",
       "      <th>25%</th>\n",
       "      <th>50%</th>\n",
       "      <th>75%</th>\n",
       "      <th>max</th>\n",
       "    </tr>\n",
       "  </thead>\n",
       "  <tbody>\n",
       "    <tr>\n",
       "      <th>bathroomcnt</th>\n",
       "      <td>10807.0</td>\n",
       "      <td>2.217082</td>\n",
       "      <td>1.002414</td>\n",
       "      <td>0.00</td>\n",
       "      <td>2.00</td>\n",
       "      <td>2.00</td>\n",
       "      <td>3.00</td>\n",
       "      <td>20.00</td>\n",
       "    </tr>\n",
       "    <tr>\n",
       "      <th>bedroomcnt</th>\n",
       "      <td>10807.0</td>\n",
       "      <td>3.082261</td>\n",
       "      <td>1.016788</td>\n",
       "      <td>0.00</td>\n",
       "      <td>2.00</td>\n",
       "      <td>3.00</td>\n",
       "      <td>4.00</td>\n",
       "      <td>25.00</td>\n",
       "    </tr>\n",
       "    <tr>\n",
       "      <th>zipcode</th>\n",
       "      <td>10807.0</td>\n",
       "      <td>96474.678357</td>\n",
       "      <td>2942.814998</td>\n",
       "      <td>95982.00</td>\n",
       "      <td>96150.00</td>\n",
       "      <td>96337.00</td>\n",
       "      <td>96531.00</td>\n",
       "      <td>399675.00</td>\n",
       "    </tr>\n",
       "    <tr>\n",
       "      <th>taxamount</th>\n",
       "      <td>10807.0</td>\n",
       "      <td>5447.543364</td>\n",
       "      <td>6789.625921</td>\n",
       "      <td>37.65</td>\n",
       "      <td>2484.94</td>\n",
       "      <td>3975.00</td>\n",
       "      <td>6260.51</td>\n",
       "      <td>228999.21</td>\n",
       "    </tr>\n",
       "    <tr>\n",
       "      <th>taxvaluedollarcnt</th>\n",
       "      <td>10807.0</td>\n",
       "      <td>445075.393726</td>\n",
       "      <td>596302.437180</td>\n",
       "      <td>3257.00</td>\n",
       "      <td>183981.00</td>\n",
       "      <td>313003.00</td>\n",
       "      <td>518000.00</td>\n",
       "      <td>19129816.00</td>\n",
       "    </tr>\n",
       "    <tr>\n",
       "      <th>yearbuilt</th>\n",
       "      <td>10807.0</td>\n",
       "      <td>1962.271121</td>\n",
       "      <td>23.010068</td>\n",
       "      <td>1885.00</td>\n",
       "      <td>1949.00</td>\n",
       "      <td>1960.00</td>\n",
       "      <td>1979.00</td>\n",
       "      <td>2015.00</td>\n",
       "    </tr>\n",
       "    <tr>\n",
       "      <th>sqft</th>\n",
       "      <td>10807.0</td>\n",
       "      <td>1754.387434</td>\n",
       "      <td>951.757552</td>\n",
       "      <td>172.00</td>\n",
       "      <td>1183.00</td>\n",
       "      <td>1532.00</td>\n",
       "      <td>2061.00</td>\n",
       "      <td>26345.00</td>\n",
       "    </tr>\n",
       "    <tr>\n",
       "      <th>tax_rate</th>\n",
       "      <td>10807.0</td>\n",
       "      <td>1.324333</td>\n",
       "      <td>0.384850</td>\n",
       "      <td>0.00</td>\n",
       "      <td>1.19</td>\n",
       "      <td>1.24</td>\n",
       "      <td>1.36</td>\n",
       "      <td>15.51</td>\n",
       "    </tr>\n",
       "  </tbody>\n",
       "</table>\n",
       "</div>"
      ],
      "text/plain": [
       "                     count           mean            std       min        25%  \\\n",
       "bathroomcnt        10807.0       2.217082       1.002414      0.00       2.00   \n",
       "bedroomcnt         10807.0       3.082261       1.016788      0.00       2.00   \n",
       "zipcode            10807.0   96474.678357    2942.814998  95982.00   96150.00   \n",
       "taxamount          10807.0    5447.543364    6789.625921     37.65    2484.94   \n",
       "taxvaluedollarcnt  10807.0  445075.393726  596302.437180   3257.00  183981.00   \n",
       "yearbuilt          10807.0    1962.271121      23.010068   1885.00    1949.00   \n",
       "sqft               10807.0    1754.387434     951.757552    172.00    1183.00   \n",
       "tax_rate           10807.0       1.324333       0.384850      0.00       1.19   \n",
       "\n",
       "                         50%        75%          max  \n",
       "bathroomcnt             2.00       3.00        20.00  \n",
       "bedroomcnt              3.00       4.00        25.00  \n",
       "zipcode             96337.00   96531.00    399675.00  \n",
       "taxamount            3975.00    6260.51    228999.21  \n",
       "taxvaluedollarcnt  313003.00  518000.00  19129816.00  \n",
       "yearbuilt            1960.00    1979.00      2015.00  \n",
       "sqft                 1532.00    2061.00     26345.00  \n",
       "tax_rate                1.24       1.36        15.51  "
      ]
     },
     "execution_count": 19,
     "metadata": {},
     "output_type": "execute_result"
    }
   ],
   "source": [
    "train.describe().T"
   ]
  },
  {
   "cell_type": "code",
   "execution_count": 20,
   "metadata": {},
   "outputs": [
    {
     "data": {
      "text/plain": [
       "<matplotlib.axes._subplots.AxesSubplot at 0x7fbd22b61a50>"
      ]
     },
     "execution_count": 20,
     "metadata": {},
     "output_type": "execute_result"
    },
    {
     "data": {
      "image/png": "[encoded data removed]",
      "text/plain": [
       "<Figure size 936x504 with 2 Axes>"
      ]
     },
     "metadata": {
      "needs_background": "light"
     },
     "output_type": "display_data"
    }
   ],
   "source": [
    "# looking at correlation for all variables\n",
    "sns.heatmap(train.corr(), cmap='Reds', annot=True)"
   ]
  },
  {
   "cell_type": "code",
   "execution_count": 35,
   "metadata": {},
   "outputs": [
    {
     "data": {
      "text/plain": [
       "Text(0.5, 1.0, 'Tax Value Distribution per Bedroom')"
      ]
     },
     "execution_count": 35,
     "metadata": {},
     "output_type": "execute_result"
    },
    {
     "data": {
      "image/png": "[encoded data removed]",
      "text/plain": [
       "<Figure size 936x504 with 1 Axes>"
      ]
     },
     "metadata": {
      "needs_background": "light"
     },
     "output_type": "display_data"
    }
   ],
   "source": [
    "sns.boxplot(data=train, y='taxvaluedollarcnt', x='bedroomcnt')\n",
    "plt.title('Tax Value Distribution per Bedroom')\n"
   ]
  },
  {
   "cell_type": "code",
   "execution_count": 24,
   "metadata": {},
   "outputs": [
    {
     "data": {
      "text/plain": [
       "Text(0.5, 1.0, 'Tax Rate per County')"
      ]
     },
     "execution_count": 24,
     "metadata": {},
     "output_type": "execute_result"
    },
    {
     "data": {
      "image/png": "[encoded data removed]",
      "text/plain": [
       "<Figure size 936x504 with 1 Axes>"
      ]
     },
     "metadata": {
      "needs_background": "light"
     },
     "output_type": "display_data"
    }
   ],
   "source": [
    "sns.barplot(data=train, y='tax_rate', x='county')\n",
    "plt.title('Tax Rate per County')"
   ]
  },
  {
   "cell_type": "code",
   "execution_count": 37,
   "metadata": {},
   "outputs": [
    {
     "data": {
      "text/plain": [
       "Text(0.5, 1.0, 'Count of Single Unit Homes in each County')"
      ]
     },
     "execution_count": 37,
     "metadata": {},
     "output_type": "execute_result"
    },
    {
     "data": {
      "image/png": "[encoded data removed]",
      "text/plain": [
       "<Figure size 936x504 with 1 Axes>"
      ]
     },
     "metadata": {
      "needs_background": "light"
     },
     "output_type": "display_data"
    }
   ],
   "source": [
    "sns.countplot(x = 'county', data=train, palette='Purples', ec='black', linewidth=2)\n",
    "plt.title('Count of Single Unit Homes in each County')"
   ]
  },
  {
   "cell_type": "markdown",
   "metadata": {},
   "source": [
    "## Hypothesis Tests"
   ]
  },
  {
   "cell_type": "markdown",
   "metadata": {},
   "source": [
    "### One Sample Single-Tailed T-Test"
   ]
  },
  {
   "cell_type": "code",
   "execution_count": 59,
   "metadata": {},
   "outputs": [
    {
     "data": {
      "text/plain": [
       "Text(0.5, 1.0, 'Distribution of Population Home Values')"
      ]
     },
     "execution_count": 59,
     "metadata": {},
     "output_type": "execute_result"
    },
    {
     "data": {
      "image/png": "[encoded data removed]",
      "text/plain": [
       "<Figure size 936x504 with 1 Axes>"
      ]
     },
     "metadata": {
      "needs_background": "light"
     },
     "output_type": "display_data"
    }
   ],
   "source": [
    "plt.hist(train.tax_rate)\n",
    "plt.title('Distribution of Population Home Values')"
   ]
  },
  {
   "cell_type": "code",
   "execution_count": 60,
   "metadata": {},
   "outputs": [
    {
     "data": {
      "text/plain": [
       "Text(0.5, 1.0, 'Distribution of LA County Home Values')"
      ]
     },
     "execution_count": 60,
     "metadata": {},
     "output_type": "execute_result"
    },
    {
     "data": {
      "image/png": "[encoded data removed]",
      "text/plain": [
       "<Figure size 936x504 with 1 Axes>"
      ]
     },
     "metadata": {
      "needs_background": "light"
     },
     "output_type": "display_data"
    }
   ],
   "source": [
    "plt.hist(train.tax_rate[train.county == 'Los Angeles County'])\n",
    "plt.title('Distribution of LA County Home Values')"
   ]
  },
  {
   "cell_type": "markdown",
   "metadata": {},
   "source": [
    "**Hypotheses**\n",
    "\n",
    "$H_0$: mean tax rate Value Los Angeles County <= the overall population of assessed counties\n",
    "$H_a$: mean tax rate Los Angeles County > the overall population of assessed counties"
   ]
  },
  {
   "cell_type": "code",
   "execution_count": 66,
   "metadata": {},
   "outputs": [
    {
     "data": {
      "text/plain": [
       "Los Angeles County    8308\n",
       "Orange County         1943\n",
       "Ventura County         556\n",
       "Name: county, dtype: int64"
      ]
     },
     "execution_count": 66,
     "metadata": {},
     "output_type": "execute_result"
    }
   ],
   "source": [
    "null = 'Mean tax rate Value Los Angeles County <= the overall population of assessed counties'\n",
    "\n",
    "# set a significance level\n",
    "alpha = .05\n",
    "\n",
    "# verify assumptions\n",
    "train.county.value_counts()"
   ]
  },
  {
   "cell_type": "markdown",
   "metadata": {},
   "source": [
    "**Compute T-Statistic and P-Value**"
   ]
  },
  {
   "cell_type": "code",
   "execution_count": 64,
   "metadata": {},
   "outputs": [
    {
     "name": "stdout",
     "output_type": "stream",
     "text": [
      "T-statistic:  8.198682809635814\n",
      "P-value:  1.3967412741375902e-16\n"
     ]
    }
   ],
   "source": [
    "overall_mean = train.tax_rate.mean()\n",
    "sample_mean = train.tax_rate[train.county == 'Los Angeles County']\n",
    "\n",
    "t, p = stats.ttest_1samp(sample_mean, overall_mean)\n",
    "print('T-statistic: ', t)\n",
    "print('P-value: ', p/2)"
   ]
  },
  {
   "cell_type": "markdown",
   "metadata": {},
   "source": [
    "**Decision**"
   ]
  },
  {
   "cell_type": "code",
   "execution_count": 69,
   "metadata": {},
   "outputs": [
    {
     "name": "stdout",
     "output_type": "stream",
     "text": [
      "We reject \\$H_0$ that Mean tax rate Value Los Angeles County <= the overall population of assessed counties\n"
     ]
    }
   ],
   "source": [
    "if p/2 > alpha:\n",
    "    print(\"We fail to reject $H_{0}$ that\", null)\n",
    "elif t < 0:\n",
    "    print(\"We fail to reject H_{0}$ that\", null)\n",
    "else:\n",
    "    print(\"We reject H_0 that\", null)"
   ]
  },
  {
   "cell_type": "code",
   "execution_count": null,
   "metadata": {},
   "outputs": [],
   "source": []
  },
  {
   "cell_type": "markdown",
   "metadata": {},
   "source": [
    "### Correlation Test"
   ]
  },
  {
   "cell_type": "markdown",
   "metadata": {},
   "source": [
    "### *need to get rid of outliers in bedroomcnt/bathroomcnt*"
   ]
  }
 ],
 "metadata": {
  "kernelspec": {
   "display_name": "Python 3",
   "language": "python",
   "name": "python3"
  },
  "language_info": {
   "codemirror_mode": {
    "name": "ipython",
    "version": 3
   },
   "file_extension": ".py",
   "mimetype": "text/x-python",
   "name": "python",
   "nbconvert_exporter": "python",
   "pygments_lexer": "ipython3",
   "version": "3.7.6"
  }
 },
 "nbformat": 4,
 "nbformat_minor": 4
}
