{
 "cells": [
  {
   "cell_type": "code",
   "execution_count": 4,
   "metadata": {},
   "outputs": [],
   "source": [
    "import numpy as np\n",
    "import pandas as pd\n",
    "import seaborn as sns\n",
    "import matplotlib.pyplot as plt\n",
    "from acquire_g import get_zillow_data\n",
    "from prepare import acquire_and_prep_data, fips_labels"
   ]
  },
  {
   "cell_type": "markdown",
   "metadata": {},
   "source": [
    "## Acquire data"
   ]
  },
  {
   "cell_type": "code",
   "execution_count": 5,
   "metadata": {
    "scrolled": true
   },
   "outputs": [
    {
     "data": {
      "text/html": [
       "<div>\n",
       "<style scoped>\n",
       "    .dataframe tbody tr th:only-of-type {\n",
       "        vertical-align: middle;\n",
       "    }\n",
       "\n",
       "    .dataframe tbody tr th {\n",
       "        vertical-align: top;\n",
       "    }\n",
       "\n",
       "    .dataframe thead th {\n",
       "        text-align: right;\n",
       "    }\n",
       "</style>\n",
       "<table border=\"1\" class=\"dataframe\">\n",
       "  <thead>\n",
       "    <tr style=\"text-align: right;\">\n",
       "      <th></th>\n",
       "      <th>id</th>\n",
       "      <th>parcelid</th>\n",
       "      <th>airconditioningtypeid</th>\n",
       "      <th>architecturalstyletypeid</th>\n",
       "      <th>basementsqft</th>\n",
       "      <th>bathroomcnt</th>\n",
       "      <th>bedroomcnt</th>\n",
       "      <th>buildingclasstypeid</th>\n",
       "      <th>buildingqualitytypeid</th>\n",
       "      <th>calculatedbathnbr</th>\n",
       "      <th>...</th>\n",
       "      <th>taxamount</th>\n",
       "      <th>taxdelinquencyflag</th>\n",
       "      <th>taxdelinquencyyear</th>\n",
       "      <th>censustractandblock</th>\n",
       "      <th>id.1</th>\n",
       "      <th>parcelid.1</th>\n",
       "      <th>logerror</th>\n",
       "      <th>transactiondate</th>\n",
       "      <th>propertylandusetypeid.1</th>\n",
       "      <th>propertylandusedesc</th>\n",
       "    </tr>\n",
       "  </thead>\n",
       "  <tbody>\n",
       "    <tr>\n",
       "      <th>0</th>\n",
       "      <td>1248</td>\n",
       "      <td>17305333</td>\n",
       "      <td>NaN</td>\n",
       "      <td>NaN</td>\n",
       "      <td>NaN</td>\n",
       "      <td>0.0</td>\n",
       "      <td>0.0</td>\n",
       "      <td>NaN</td>\n",
       "      <td>NaN</td>\n",
       "      <td>NaN</td>\n",
       "      <td>...</td>\n",
       "      <td>212.46</td>\n",
       "      <td>NaN</td>\n",
       "      <td>NaN</td>\n",
       "      <td>6.111002e+13</td>\n",
       "      <td>1248</td>\n",
       "      <td>11289917</td>\n",
       "      <td>-0.362001</td>\n",
       "      <td>2017-06-23</td>\n",
       "      <td>263</td>\n",
       "      <td>Mobile Home</td>\n",
       "    </tr>\n",
       "    <tr>\n",
       "      <th>1</th>\n",
       "      <td>1772</td>\n",
       "      <td>10838338</td>\n",
       "      <td>NaN</td>\n",
       "      <td>NaN</td>\n",
       "      <td>NaN</td>\n",
       "      <td>2.0</td>\n",
       "      <td>4.0</td>\n",
       "      <td>NaN</td>\n",
       "      <td>6.0</td>\n",
       "      <td>2.0</td>\n",
       "      <td>...</td>\n",
       "      <td>6089.82</td>\n",
       "      <td>NaN</td>\n",
       "      <td>NaN</td>\n",
       "      <td>6.037128e+13</td>\n",
       "      <td>1772</td>\n",
       "      <td>11705026</td>\n",
       "      <td>-0.146056</td>\n",
       "      <td>2017-06-30</td>\n",
       "      <td>261</td>\n",
       "      <td>Single Family Residential</td>\n",
       "    </tr>\n",
       "    <tr>\n",
       "      <th>2</th>\n",
       "      <td>2028</td>\n",
       "      <td>10901531</td>\n",
       "      <td>1.0</td>\n",
       "      <td>NaN</td>\n",
       "      <td>NaN</td>\n",
       "      <td>3.0</td>\n",
       "      <td>3.0</td>\n",
       "      <td>NaN</td>\n",
       "      <td>8.0</td>\n",
       "      <td>3.0</td>\n",
       "      <td>...</td>\n",
       "      <td>6679.55</td>\n",
       "      <td>NaN</td>\n",
       "      <td>NaN</td>\n",
       "      <td>6.037125e+13</td>\n",
       "      <td>2028</td>\n",
       "      <td>14269464</td>\n",
       "      <td>0.021085</td>\n",
       "      <td>2017-06-01</td>\n",
       "      <td>261</td>\n",
       "      <td>Single Family Residential</td>\n",
       "    </tr>\n",
       "    <tr>\n",
       "      <th>3</th>\n",
       "      <td>3273</td>\n",
       "      <td>11262089</td>\n",
       "      <td>1.0</td>\n",
       "      <td>NaN</td>\n",
       "      <td>NaN</td>\n",
       "      <td>2.0</td>\n",
       "      <td>3.0</td>\n",
       "      <td>NaN</td>\n",
       "      <td>8.0</td>\n",
       "      <td>2.0</td>\n",
       "      <td>...</td>\n",
       "      <td>3876.31</td>\n",
       "      <td>NaN</td>\n",
       "      <td>NaN</td>\n",
       "      <td>6.037901e+13</td>\n",
       "      <td>3273</td>\n",
       "      <td>11389003</td>\n",
       "      <td>-0.325393</td>\n",
       "      <td>2017-06-01</td>\n",
       "      <td>261</td>\n",
       "      <td>Single Family Residential</td>\n",
       "    </tr>\n",
       "    <tr>\n",
       "      <th>4</th>\n",
       "      <td>3429</td>\n",
       "      <td>11323134</td>\n",
       "      <td>NaN</td>\n",
       "      <td>NaN</td>\n",
       "      <td>NaN</td>\n",
       "      <td>2.0</td>\n",
       "      <td>2.0</td>\n",
       "      <td>NaN</td>\n",
       "      <td>6.0</td>\n",
       "      <td>2.0</td>\n",
       "      <td>...</td>\n",
       "      <td>4206.15</td>\n",
       "      <td>NaN</td>\n",
       "      <td>NaN</td>\n",
       "      <td>6.037901e+13</td>\n",
       "      <td>3429</td>\n",
       "      <td>11967869</td>\n",
       "      <td>-0.005566</td>\n",
       "      <td>2017-06-29</td>\n",
       "      <td>261</td>\n",
       "      <td>Single Family Residential</td>\n",
       "    </tr>\n",
       "  </tbody>\n",
       "</table>\n",
       "<p>5 rows × 65 columns</p>\n",
       "</div>"
      ],
      "text/plain": [
       "     id  parcelid  airconditioningtypeid  architecturalstyletypeid  \\\n",
       "0  1248  17305333                    NaN                       NaN   \n",
       "1  1772  10838338                    NaN                       NaN   \n",
       "2  2028  10901531                    1.0                       NaN   \n",
       "3  3273  11262089                    1.0                       NaN   \n",
       "4  3429  11323134                    NaN                       NaN   \n",
       "\n",
       "   basementsqft  bathroomcnt  bedroomcnt  buildingclasstypeid  \\\n",
       "0           NaN          0.0         0.0                  NaN   \n",
       "1           NaN          2.0         4.0                  NaN   \n",
       "2           NaN          3.0         3.0                  NaN   \n",
       "3           NaN          2.0         3.0                  NaN   \n",
       "4           NaN          2.0         2.0                  NaN   \n",
       "\n",
       "   buildingqualitytypeid  calculatedbathnbr  ...  taxamount  \\\n",
       "0                    NaN                NaN  ...     212.46   \n",
       "1                    6.0                2.0  ...    6089.82   \n",
       "2                    8.0                3.0  ...    6679.55   \n",
       "3                    8.0                2.0  ...    3876.31   \n",
       "4                    6.0                2.0  ...    4206.15   \n",
       "\n",
       "   taxdelinquencyflag  taxdelinquencyyear  censustractandblock  id.1  \\\n",
       "0                 NaN                 NaN         6.111002e+13  1248   \n",
       "1                 NaN                 NaN         6.037128e+13  1772   \n",
       "2                 NaN                 NaN         6.037125e+13  2028   \n",
       "3                 NaN                 NaN         6.037901e+13  3273   \n",
       "4                 NaN                 NaN         6.037901e+13  3429   \n",
       "\n",
       "   parcelid.1  logerror  transactiondate  propertylandusetypeid.1  \\\n",
       "0    11289917 -0.362001       2017-06-23                      263   \n",
       "1    11705026 -0.146056       2017-06-30                      261   \n",
       "2    14269464  0.021085       2017-06-01                      261   \n",
       "3    11389003 -0.325393       2017-06-01                      261   \n",
       "4    11967869 -0.005566       2017-06-29                      261   \n",
       "\n",
       "         propertylandusedesc  \n",
       "0                Mobile Home  \n",
       "1  Single Family Residential  \n",
       "2  Single Family Residential  \n",
       "3  Single Family Residential  \n",
       "4  Single Family Residential  \n",
       "\n",
       "[5 rows x 65 columns]"
      ]
     },
     "execution_count": 5,
     "metadata": {},
     "output_type": "execute_result"
    }
   ],
   "source": [
    "df = get_zillow_data()\n",
    "df.head()"
   ]
  },
  {
   "cell_type": "code",
   "execution_count": 12,
   "metadata": {},
   "outputs": [
    {
     "name": "stdout",
     "output_type": "stream",
     "text": [
      "<class 'pandas.core.frame.DataFrame'>\n",
      "Int64Index: 19299 entries, 0 to 19666\n",
      "Data columns (total 9 columns):\n",
      " #   Column             Non-Null Count  Dtype  \n",
      "---  ------             --------------  -----  \n",
      " 0   sqft               19299 non-null  int64  \n",
      " 1   bathroomcnt        19299 non-null  float64\n",
      " 2   bedroomcnt         19299 non-null  int64  \n",
      " 3   zipcode            19299 non-null  int64  \n",
      " 4   taxamount          19299 non-null  float64\n",
      " 5   taxvaluedollarcnt  19299 non-null  float64\n",
      " 6   yearbuilt          19299 non-null  int64  \n",
      " 7   tax_rate           19299 non-null  float64\n",
      " 8   county             19299 non-null  object \n",
      "dtypes: float64(4), int64(4), object(1)\n",
      "memory usage: 1.5+ MB\n"
     ]
    }
   ],
   "source": [
    "# 19667 rows with 65 columns. \n",
    "df.info()"
   ]
  },
  {
   "cell_type": "code",
   "execution_count": 13,
   "metadata": {},
   "outputs": [
    {
     "data": {
      "text/plain": [
       "(19299, 9)"
      ]
     },
     "execution_count": 13,
     "metadata": {},
     "output_type": "execute_result"
    }
   ],
   "source": [
    "df.shape"
   ]
  },
  {
   "cell_type": "code",
   "execution_count": 15,
   "metadata": {},
   "outputs": [
    {
     "data": {
      "text/html": [
       "<div>\n",
       "<style scoped>\n",
       "    .dataframe tbody tr th:only-of-type {\n",
       "        vertical-align: middle;\n",
       "    }\n",
       "\n",
       "    .dataframe tbody tr th {\n",
       "        vertical-align: top;\n",
       "    }\n",
       "\n",
       "    .dataframe thead th {\n",
       "        text-align: right;\n",
       "    }\n",
       "</style>\n",
       "<table border=\"1\" class=\"dataframe\">\n",
       "  <thead>\n",
       "    <tr style=\"text-align: right;\">\n",
       "      <th></th>\n",
       "      <th>sqft</th>\n",
       "      <th>bathroomcnt</th>\n",
       "      <th>bedroomcnt</th>\n",
       "      <th>zipcode</th>\n",
       "      <th>taxamount</th>\n",
       "      <th>taxvaluedollarcnt</th>\n",
       "      <th>yearbuilt</th>\n",
       "      <th>tax_rate</th>\n",
       "    </tr>\n",
       "  </thead>\n",
       "  <tbody>\n",
       "    <tr>\n",
       "      <th>count</th>\n",
       "      <td>19299.000000</td>\n",
       "      <td>19299.000000</td>\n",
       "      <td>19299.000000</td>\n",
       "      <td>19299.000000</td>\n",
       "      <td>19299.000000</td>\n",
       "      <td>1.929900e+04</td>\n",
       "      <td>19299.000000</td>\n",
       "      <td>19299.000000</td>\n",
       "    </tr>\n",
       "    <tr>\n",
       "      <th>mean</th>\n",
       "      <td>1743.394062</td>\n",
       "      <td>2.210684</td>\n",
       "      <td>3.072646</td>\n",
       "      <td>96495.213742</td>\n",
       "      <td>5444.767672</td>\n",
       "      <td>4.443488e+05</td>\n",
       "      <td>1962.409296</td>\n",
       "      <td>1.321326</td>\n",
       "    </tr>\n",
       "    <tr>\n",
       "      <th>std</th>\n",
       "      <td>938.396722</td>\n",
       "      <td>0.988779</td>\n",
       "      <td>1.009545</td>\n",
       "      <td>3800.436448</td>\n",
       "      <td>6941.795704</td>\n",
       "      <td>5.980809e+05</td>\n",
       "      <td>22.921862</td>\n",
       "      <td>0.355193</td>\n",
       "    </tr>\n",
       "    <tr>\n",
       "      <th>min</th>\n",
       "      <td>60.000000</td>\n",
       "      <td>0.000000</td>\n",
       "      <td>0.000000</td>\n",
       "      <td>95982.000000</td>\n",
       "      <td>37.650000</td>\n",
       "      <td>3.257000e+03</td>\n",
       "      <td>1862.000000</td>\n",
       "      <td>0.000000</td>\n",
       "    </tr>\n",
       "    <tr>\n",
       "      <th>25%</th>\n",
       "      <td>1180.000000</td>\n",
       "      <td>2.000000</td>\n",
       "      <td>2.000000</td>\n",
       "      <td>96150.000000</td>\n",
       "      <td>2476.985000</td>\n",
       "      <td>1.840920e+05</td>\n",
       "      <td>1949.000000</td>\n",
       "      <td>1.190000</td>\n",
       "    </tr>\n",
       "    <tr>\n",
       "      <th>50%</th>\n",
       "      <td>1520.000000</td>\n",
       "      <td>2.000000</td>\n",
       "      <td>3.000000</td>\n",
       "      <td>96339.000000</td>\n",
       "      <td>3963.200000</td>\n",
       "      <td>3.138480e+05</td>\n",
       "      <td>1960.000000</td>\n",
       "      <td>1.240000</td>\n",
       "    </tr>\n",
       "    <tr>\n",
       "      <th>75%</th>\n",
       "      <td>2038.000000</td>\n",
       "      <td>3.000000</td>\n",
       "      <td>4.000000</td>\n",
       "      <td>96533.000000</td>\n",
       "      <td>6166.210000</td>\n",
       "      <td>5.104350e+05</td>\n",
       "      <td>1979.000000</td>\n",
       "      <td>1.350000</td>\n",
       "    </tr>\n",
       "    <tr>\n",
       "      <th>max</th>\n",
       "      <td>26345.000000</td>\n",
       "      <td>20.000000</td>\n",
       "      <td>25.000000</td>\n",
       "      <td>399675.000000</td>\n",
       "      <td>228999.210000</td>\n",
       "      <td>1.912982e+07</td>\n",
       "      <td>2015.000000</td>\n",
       "      <td>15.510000</td>\n",
       "    </tr>\n",
       "  </tbody>\n",
       "</table>\n",
       "</div>"
      ],
      "text/plain": [
       "               sqft   bathroomcnt    bedroomcnt        zipcode      taxamount  \\\n",
       "count  19299.000000  19299.000000  19299.000000   19299.000000   19299.000000   \n",
       "mean    1743.394062      2.210684      3.072646   96495.213742    5444.767672   \n",
       "std      938.396722      0.988779      1.009545    3800.436448    6941.795704   \n",
       "min       60.000000      0.000000      0.000000   95982.000000      37.650000   \n",
       "25%     1180.000000      2.000000      2.000000   96150.000000    2476.985000   \n",
       "50%     1520.000000      2.000000      3.000000   96339.000000    3963.200000   \n",
       "75%     2038.000000      3.000000      4.000000   96533.000000    6166.210000   \n",
       "max    26345.000000     20.000000     25.000000  399675.000000  228999.210000   \n",
       "\n",
       "       taxvaluedollarcnt     yearbuilt      tax_rate  \n",
       "count       1.929900e+04  19299.000000  19299.000000  \n",
       "mean        4.443488e+05   1962.409296      1.321326  \n",
       "std         5.980809e+05     22.921862      0.355193  \n",
       "min         3.257000e+03   1862.000000      0.000000  \n",
       "25%         1.840920e+05   1949.000000      1.190000  \n",
       "50%         3.138480e+05   1960.000000      1.240000  \n",
       "75%         5.104350e+05   1979.000000      1.350000  \n",
       "max         1.912982e+07   2015.000000     15.510000  "
      ]
     },
     "execution_count": 15,
     "metadata": {},
     "output_type": "execute_result"
    }
   ],
   "source": [
    "df.describe()"
   ]
  },
  {
   "cell_type": "code",
   "execution_count": 16,
   "metadata": {},
   "outputs": [
    {
     "name": "stdout",
     "output_type": "stream",
     "text": [
      "<class 'pandas.core.frame.DataFrame'>\n",
      "Int64Index: 19299 entries, 0 to 19666\n",
      "Data columns (total 9 columns):\n",
      " #   Column             Non-Null Count  Dtype  \n",
      "---  ------             --------------  -----  \n",
      " 0   sqft               19299 non-null  int64  \n",
      " 1   bathroomcnt        19299 non-null  float64\n",
      " 2   bedroomcnt         19299 non-null  int64  \n",
      " 3   zipcode            19299 non-null  int64  \n",
      " 4   taxamount          19299 non-null  float64\n",
      " 5   taxvaluedollarcnt  19299 non-null  float64\n",
      " 6   yearbuilt          19299 non-null  int64  \n",
      " 7   tax_rate           19299 non-null  float64\n",
      " 8   county             19299 non-null  object \n",
      "dtypes: float64(4), int64(4), object(1)\n",
      "memory usage: 1.5+ MB\n"
     ]
    }
   ],
   "source": [
    "# Have and object, float and int\n",
    "df.info()"
   ]
  },
  {
   "cell_type": "code",
   "execution_count": null,
   "metadata": {},
   "outputs": [],
   "source": [
    "# df cut down to read 22 column brandon and i aggreed on. then cut more to get mvp\n",
    "df = df[['parcelid','bathroomcnt','bedroomcnt','calculatedbathnbr','calculatedfinishedsquarefeet','finishedsquarefeet12','fips','fullbathcnt','latitude','longitude','propertycountylandusecode','propertylandusetypeid','regionidcity','regionidcounty','regionidzip','roomcnt','yearbuilt','structuretaxvaluedollarcnt','taxvaluedollarcnt','taxamount','transactiondate','propertylandusetypeid.1']]\n",
    "df.head().T"
   ]
  },
  {
   "cell_type": "code",
   "execution_count": null,
   "metadata": {},
   "outputs": [],
   "source": [
    "# dropped 2 more columns\n",
    "df = df.drop(columns = ['propertycountylandusecode', 'transactiondate'])"
   ]
  },
  {
   "cell_type": "code",
   "execution_count": null,
   "metadata": {},
   "outputs": [],
   "source": [
    "df.info()"
   ]
  },
  {
   "cell_type": "code",
   "execution_count": null,
   "metadata": {
    "scrolled": true
   },
   "outputs": [],
   "source": [
    "df.isna().sum()"
   ]
  },
  {
   "cell_type": "code",
   "execution_count": null,
   "metadata": {},
   "outputs": [],
   "source": [
    "df.isnull().sum()"
   ]
  },
  {
   "cell_type": "code",
   "execution_count": null,
   "metadata": {},
   "outputs": [],
   "source": [
    "# only 3 fips\n",
    "df.fips.nunique()"
   ]
  },
  {
   "cell_type": "code",
   "execution_count": null,
   "metadata": {},
   "outputs": [],
   "source": [
    "# These are the columns we will be using for our mvp\n",
    "df = df[['calculatedfinishedsquarefeet','bathroomcnt', 'bedroomcnt', 'regionidzip', 'fips', 'taxamount', 'taxvaluedollarcnt', 'yearbuilt']]\n",
    "df"
   ]
  },
  {
   "cell_type": "code",
   "execution_count": null,
   "metadata": {},
   "outputs": [],
   "source": [
    "df.isnull().sum()"
   ]
  },
  {
   "cell_type": "code",
   "execution_count": null,
   "metadata": {},
   "outputs": [],
   "source": [
    "df = df.dropna()\n",
    "df.isnull().sum()"
   ]
  },
  {
   "cell_type": "code",
   "execution_count": null,
   "metadata": {},
   "outputs": [],
   "source": [
    "df.info()"
   ]
  },
  {
   "cell_type": "markdown",
   "metadata": {},
   "source": [
    "### Changing data types"
   ]
  },
  {
   "cell_type": "code",
   "execution_count": null,
   "metadata": {},
   "outputs": [],
   "source": [
    "df['bedroomcnt'] = df['bedroomcnt'].astype(int)\n",
    "df['calculatedfinishedsquarefeet'] = df['calculatedfinishedsquarefeet'].astype(int)\n",
    "df['regionidzip']=df['regionidzip'].astype(int)\n",
    "df['fips'] = df['fips'].astype(int)\n",
    "df['yearbuilt']=df['yearbuilt'].astype(int)"
   ]
  },
  {
   "cell_type": "code",
   "execution_count": null,
   "metadata": {},
   "outputs": [],
   "source": [
    "df.info()"
   ]
  },
  {
   "cell_type": "code",
   "execution_count": null,
   "metadata": {},
   "outputs": [],
   "source": [
    "# Renaming features\n",
    "df = df.rename(columns={'calculatedfinishedsquarefeet': 'sqft', 'regionidzip': 'zipcode'})\n",
    "df.head()"
   ]
  },
  {
   "cell_type": "code",
   "execution_count": null,
   "metadata": {},
   "outputs": [],
   "source": [
    "# Calculating tax rate\n",
    "df['tax_rate'] = round((df['taxamount'] / df['taxvaluedollarcnt']) * 100 , 2)\n",
    "df.head()"
   ]
  },
  {
   "cell_type": "code",
   "execution_count": null,
   "metadata": {},
   "outputs": [],
   "source": [
    "# Creating a function to change fips to the county name\n",
    "def fips_labels(x):\n",
    "    if x['fips'] == 6037:\n",
    "        return 'Los Angeles County'\n",
    "    elif x['fips'] == 6059:\n",
    "        return 'Orange County'\n",
    "    elif x['fips'] == 6111:\n",
    "        return 'Ventura County'"
   ]
  },
  {
   "cell_type": "code",
   "execution_count": null,
   "metadata": {},
   "outputs": [],
   "source": [
    "# Creating a county column\n",
    "df['county'] = df.apply(lambda x: fips_labels(x), axis=1)\n",
    "df.head()"
   ]
  },
  {
   "cell_type": "code",
   "execution_count": null,
   "metadata": {},
   "outputs": [],
   "source": [
    "# Dropping fips now that we have county column\n",
    "df = df.drop(columns = ['fips'])\n",
    "df.head()"
   ]
  },
  {
   "cell_type": "code",
   "execution_count": 7,
   "metadata": {},
   "outputs": [
    {
     "data": {
      "text/html": [
       "<div>\n",
       "<style scoped>\n",
       "    .dataframe tbody tr th:only-of-type {\n",
       "        vertical-align: middle;\n",
       "    }\n",
       "\n",
       "    .dataframe tbody tr th {\n",
       "        vertical-align: top;\n",
       "    }\n",
       "\n",
       "    .dataframe thead th {\n",
       "        text-align: right;\n",
       "    }\n",
       "</style>\n",
       "<table border=\"1\" class=\"dataframe\">\n",
       "  <thead>\n",
       "    <tr style=\"text-align: right;\">\n",
       "      <th></th>\n",
       "      <th>sqft</th>\n",
       "      <th>bathroomcnt</th>\n",
       "      <th>bedroomcnt</th>\n",
       "      <th>zipcode</th>\n",
       "      <th>taxamount</th>\n",
       "      <th>taxvaluedollarcnt</th>\n",
       "      <th>yearbuilt</th>\n",
       "      <th>tax_rate</th>\n",
       "      <th>county</th>\n",
       "    </tr>\n",
       "  </thead>\n",
       "  <tbody>\n",
       "    <tr>\n",
       "      <th>0</th>\n",
       "      <td>1000</td>\n",
       "      <td>0.0</td>\n",
       "      <td>0</td>\n",
       "      <td>97083</td>\n",
       "      <td>212.46</td>\n",
       "      <td>27400.0</td>\n",
       "      <td>2002</td>\n",
       "      <td>0.78</td>\n",
       "      <td>Ventura County</td>\n",
       "    </tr>\n",
       "    <tr>\n",
       "      <th>1</th>\n",
       "      <td>1604</td>\n",
       "      <td>2.0</td>\n",
       "      <td>4</td>\n",
       "      <td>96415</td>\n",
       "      <td>6089.82</td>\n",
       "      <td>498347.0</td>\n",
       "      <td>1950</td>\n",
       "      <td>1.22</td>\n",
       "      <td>Los Angeles County</td>\n",
       "    </tr>\n",
       "    <tr>\n",
       "      <th>2</th>\n",
       "      <td>2384</td>\n",
       "      <td>3.0</td>\n",
       "      <td>3</td>\n",
       "      <td>96452</td>\n",
       "      <td>6679.55</td>\n",
       "      <td>549917.0</td>\n",
       "      <td>1937</td>\n",
       "      <td>1.21</td>\n",
       "      <td>Los Angeles County</td>\n",
       "    </tr>\n",
       "    <tr>\n",
       "      <th>3</th>\n",
       "      <td>1574</td>\n",
       "      <td>2.0</td>\n",
       "      <td>3</td>\n",
       "      <td>97319</td>\n",
       "      <td>3876.31</td>\n",
       "      <td>235272.0</td>\n",
       "      <td>1990</td>\n",
       "      <td>1.65</td>\n",
       "      <td>Los Angeles County</td>\n",
       "    </tr>\n",
       "    <tr>\n",
       "      <th>4</th>\n",
       "      <td>1619</td>\n",
       "      <td>2.0</td>\n",
       "      <td>2</td>\n",
       "      <td>97329</td>\n",
       "      <td>4206.15</td>\n",
       "      <td>340000.0</td>\n",
       "      <td>1983</td>\n",
       "      <td>1.24</td>\n",
       "      <td>Los Angeles County</td>\n",
       "    </tr>\n",
       "  </tbody>\n",
       "</table>\n",
       "</div>"
      ],
      "text/plain": [
       "   sqft  bathroomcnt  bedroomcnt  zipcode  taxamount  taxvaluedollarcnt  \\\n",
       "0  1000          0.0           0    97083     212.46            27400.0   \n",
       "1  1604          2.0           4    96415    6089.82           498347.0   \n",
       "2  2384          3.0           3    96452    6679.55           549917.0   \n",
       "3  1574          2.0           3    97319    3876.31           235272.0   \n",
       "4  1619          2.0           2    97329    4206.15           340000.0   \n",
       "\n",
       "   yearbuilt  tax_rate              county  \n",
       "0       2002      0.78      Ventura County  \n",
       "1       1950      1.22  Los Angeles County  \n",
       "2       1937      1.21  Los Angeles County  \n",
       "3       1990      1.65  Los Angeles County  \n",
       "4       1983      1.24  Los Angeles County  "
      ]
     },
     "execution_count": 7,
     "metadata": {},
     "output_type": "execute_result"
    }
   ],
   "source": [
    "# Testing the acquire and prep function\n",
    "df = acquire_and_prep_data()\n",
    "df.head()"
   ]
  },
  {
   "cell_type": "code",
   "execution_count": 17,
   "metadata": {},
   "outputs": [
    {
     "name": "stdout",
     "output_type": "stream",
     "text": [
      "On branch master\r\n",
      "Your branch is up to date with 'origin/master'.\r\n",
      "\r\n",
      "Changes not staged for commit:\r\n",
      "  (use \"git add <file>...\" to update what will be committed)\r\n",
      "  (use \"git restore <file>...\" to discard changes in working directory)\r\n",
      "\t\u001b[31mmodified:   acquire_prep_g.ipynb\u001b[m\r\n",
      "\r\n",
      "no changes added to commit (use \"git add\" and/or \"git commit -a\")\r\n"
     ]
    }
   ],
   "source": [
    "!git status"
   ]
  },
  {
   "cell_type": "code",
   "execution_count": 21,
   "metadata": {},
   "outputs": [],
   "source": [
    "! git add -A"
   ]
  },
  {
   "cell_type": "code",
   "execution_count": 22,
   "metadata": {},
   "outputs": [
    {
     "name": "stdout",
     "output_type": "stream",
     "text": [
      "[master 2f4c316] adding edits to prepare\r\n",
      " 1 file changed, 14 insertions(+), 15 deletions(-)\r\n"
     ]
    }
   ],
   "source": [
    "! git commit -m \"adding edits to prepare\""
   ]
  },
  {
   "cell_type": "code",
   "execution_count": 23,
   "metadata": {},
   "outputs": [
    {
     "name": "stdout",
     "output_type": "stream",
     "text": [
      "Enumerating objects: 5, done.\n",
      "Counting objects: 100% (5/5), done.\n",
      "Delta compression using up to 8 threads\n",
      "Compressing objects: 100% (3/3), done.\n",
      "Writing objects: 100% (3/3), 589 bytes | 589.00 KiB/s, done.\n",
      "Total 3 (delta 2), reused 0 (delta 0)\n",
      "remote: Resolving deltas: 100% (2/2), completed with 2 local objects.\u001b[K\n",
      "To https://github.com/The-BGs/zillow_regression_project.git\n",
      "   9d33c3b..2f4c316  master -> master\n"
     ]
    }
   ],
   "source": [
    "!git push"
   ]
  },
  {
   "cell_type": "code",
   "execution_count": null,
   "metadata": {},
   "outputs": [],
   "source": [
    "# git pull"
   ]
  },
  {
   "cell_type": "code",
   "execution_count": null,
   "metadata": {},
   "outputs": [],
   "source": []
  }
 ],
 "metadata": {
  "kernelspec": {
   "display_name": "Python 3",
   "language": "python",
   "name": "python3"
  },
  "language_info": {
   "codemirror_mode": {
    "name": "ipython",
    "version": 3
   },
   "file_extension": ".py",
   "mimetype": "text/x-python",
   "name": "python",
   "nbconvert_exporter": "python",
   "pygments_lexer": "ipython3",
   "version": "3.7.6"
  }
 },
 "nbformat": 4,
 "nbformat_minor": 4
}
